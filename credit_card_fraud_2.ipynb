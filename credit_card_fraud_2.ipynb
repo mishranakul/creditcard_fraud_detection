{
 "cells": [
  {
   "cell_type": "markdown",
   "metadata": {
    "_uuid": "c78ae53facda0d8a01ed192042bdbd721bf0796a"
   },
   "source": [
    "  Credit card fraud detection "
   ]
  },
  {
   "cell_type": "markdown",
   "metadata": {
    "_uuid": "9e653492da3afc176be4a58de362db3bd80b4171"
   },
   "source": [
    "# Context\n",
    "It is important that credit card companies are able to recognize fraudulent credit card transactions so that customers are not charged for items that they did not purchase.\n",
    "\n",
    "### Content\n",
    "The datasets contains transactions made by credit cards in September 2013 by european cardholders. This dataset presents transactions that occurred in two days, where we have 492 frauds out of 284,807 transactions. The dataset is highly unbalanced, the positive class (frauds) account for 0.172% of all transactions.\n",
    "\n",
    "It contains only numerical input variables which are the result of a PCA transformation. Unfortunately, due to confidentiality issues, we cannot provide the original features and more background information about the data. Features V1, V2, ... V28 are the principal components obtained with PCA, the only features which have not been transformed with PCA are 'Time' and 'Amount'. Feature 'Time' contains the seconds elapsed between each transaction and the first transaction in the dataset. The feature 'Amount' is the transaction Amount, this feature can be used for example-dependant cost-senstive learning. Feature 'Class' is the response variable and it takes value 1 in case of fraud and 0 otherwise.\n",
    "\n",
    "Inspiration\n",
    "Identify fraudulent credit card transactions.\n",
    "\n",
    "Given the class imbalance ratio, we recommend measuring the accuracy using the Area Under the Precision-Recall Curve (AUPRC). Confusion matrix accuracy is not meaningful for unbalanced classification.\n",
    "\n",
    "### Acknowledgements\n",
    "\n",
    "The dataset has been collected and analysed during a research collaboration of Worldline and the Machine Learning Group (http://mlg.ulb.ac.be) of ULB (Université Libre de Bruxelles) on big data mining and fraud detection. More details on current and past projects on related topics are available on http://mlg.ulb.ac.be/BruFence and http://mlg.ulb.ac.be/ARTML\n",
    "\n",
    "Please cite: Andrea Dal Pozzolo, Olivier Caelen, Reid A. Johnson and Gianluca Bontempi. Calibrating Probability with Undersampling for Unbalanced Classification. In Symposium on Computational Intelligence and Data Mining (CIDM), IEEE, 2015"
   ]
  },
  {
   "cell_type": "markdown",
   "metadata": {
    "_uuid": "65b5ede26f1b007abf87eebda7771b0e50bee573"
   },
   "source": [
    "# EDA"
   ]
  },
  {
   "cell_type": "code",
   "execution_count": 1,
   "metadata": {
    "_uuid": "2e097c7a44a3a415d4758a49dbdd644cbf77e9ce"
   },
   "outputs": [],
   "source": [
    "# Imported Libraries\n",
    "\n",
    "import numpy as np  # linear algebra\n",
    "import pandas as pd  # data processing, CSV file I/O (e.g. pd.read_csv)\n",
    "import tensorflow as tf\n",
    "import matplotlib.pyplot as plt\n",
    "import seaborn as sns\n",
    "from sklearn.manifold import TSNE\n",
    "from sklearn.decomposition import PCA, TruncatedSVD\n",
    "import matplotlib.patches as mpatches\n",
    "import time\n",
    "\n",
    "# Classifier Libraries\n",
    "from sklearn.linear_model import LogisticRegression\n",
    "from sklearn.svm import SVC\n",
    "from sklearn.preprocessing import StandardScaler\n",
    "from sklearn.neighbors import KNeighborsClassifier\n",
    "from sklearn.tree import DecisionTreeClassifier\n",
    "from sklearn.ensemble import RandomForestClassifier\n",
    "import collections\n",
    "\n",
    "\n",
    "# Other Libraries\n",
    "from sklearn.model_selection import train_test_split\n",
    "from sklearn.pipeline import make_pipeline\n",
    "from imblearn.pipeline import make_pipeline as imbalanced_make_pipeline\n",
    "from imblearn.over_sampling import SMOTE\n",
    "from imblearn.under_sampling import NearMiss\n",
    "from sklearn.metrics import confusion_matrix, precision_score, recall_score, roc_curve\n",
    "from sklearn.metrics import f1_score, roc_auc_score, accuracy_score, classification_report\n",
    "\n",
    "\n",
    "from collections import Counter\n",
    "from sklearn.model_selection import KFold, StratifiedKFold\n",
    "import warnings\n",
    "\n",
    "%matplotlib inline\n",
    "warnings.filterwarnings(\"ignore\")\n",
    "sns.set(style='whitegrid', palette='inferno', font_scale=1.5)"
   ]
  },
  {
   "cell_type": "code",
   "execution_count": 2,
   "metadata": {
    "_uuid": "06d7a8b440edc3c283a43e76d1b07b008765a5b2"
   },
   "outputs": [],
   "source": [
    "data = pd.read_csv('data/creditcard.csv')"
   ]
  },
  {
   "cell_type": "code",
   "execution_count": 3,
   "metadata": {
    "_uuid": "3da246f5216f36c655d187b82dfb6edb85ac7bce"
   },
   "outputs": [
    {
     "data": {
      "text/html": [
       "<div>\n",
       "<style scoped>\n",
       "    .dataframe tbody tr th:only-of-type {\n",
       "        vertical-align: middle;\n",
       "    }\n",
       "\n",
       "    .dataframe tbody tr th {\n",
       "        vertical-align: top;\n",
       "    }\n",
       "\n",
       "    .dataframe thead th {\n",
       "        text-align: right;\n",
       "    }\n",
       "</style>\n",
       "<table border=\"1\" class=\"dataframe\">\n",
       "  <thead>\n",
       "    <tr style=\"text-align: right;\">\n",
       "      <th></th>\n",
       "      <th>Time</th>\n",
       "      <th>V1</th>\n",
       "      <th>V2</th>\n",
       "      <th>V3</th>\n",
       "      <th>V4</th>\n",
       "      <th>V5</th>\n",
       "      <th>V6</th>\n",
       "      <th>V7</th>\n",
       "      <th>V8</th>\n",
       "      <th>V9</th>\n",
       "      <th>...</th>\n",
       "      <th>V21</th>\n",
       "      <th>V22</th>\n",
       "      <th>V23</th>\n",
       "      <th>V24</th>\n",
       "      <th>V25</th>\n",
       "      <th>V26</th>\n",
       "      <th>V27</th>\n",
       "      <th>V28</th>\n",
       "      <th>Amount</th>\n",
       "      <th>Class</th>\n",
       "    </tr>\n",
       "  </thead>\n",
       "  <tbody>\n",
       "    <tr>\n",
       "      <th>0</th>\n",
       "      <td>0.0</td>\n",
       "      <td>-1.359807</td>\n",
       "      <td>-0.072781</td>\n",
       "      <td>2.536347</td>\n",
       "      <td>1.378155</td>\n",
       "      <td>-0.338321</td>\n",
       "      <td>0.462388</td>\n",
       "      <td>0.239599</td>\n",
       "      <td>0.098698</td>\n",
       "      <td>0.363787</td>\n",
       "      <td>...</td>\n",
       "      <td>-0.018307</td>\n",
       "      <td>0.277838</td>\n",
       "      <td>-0.110474</td>\n",
       "      <td>0.066928</td>\n",
       "      <td>0.128539</td>\n",
       "      <td>-0.189115</td>\n",
       "      <td>0.133558</td>\n",
       "      <td>-0.021053</td>\n",
       "      <td>149.62</td>\n",
       "      <td>0</td>\n",
       "    </tr>\n",
       "    <tr>\n",
       "      <th>1</th>\n",
       "      <td>0.0</td>\n",
       "      <td>1.191857</td>\n",
       "      <td>0.266151</td>\n",
       "      <td>0.166480</td>\n",
       "      <td>0.448154</td>\n",
       "      <td>0.060018</td>\n",
       "      <td>-0.082361</td>\n",
       "      <td>-0.078803</td>\n",
       "      <td>0.085102</td>\n",
       "      <td>-0.255425</td>\n",
       "      <td>...</td>\n",
       "      <td>-0.225775</td>\n",
       "      <td>-0.638672</td>\n",
       "      <td>0.101288</td>\n",
       "      <td>-0.339846</td>\n",
       "      <td>0.167170</td>\n",
       "      <td>0.125895</td>\n",
       "      <td>-0.008983</td>\n",
       "      <td>0.014724</td>\n",
       "      <td>2.69</td>\n",
       "      <td>0</td>\n",
       "    </tr>\n",
       "    <tr>\n",
       "      <th>2</th>\n",
       "      <td>1.0</td>\n",
       "      <td>-1.358354</td>\n",
       "      <td>-1.340163</td>\n",
       "      <td>1.773209</td>\n",
       "      <td>0.379780</td>\n",
       "      <td>-0.503198</td>\n",
       "      <td>1.800499</td>\n",
       "      <td>0.791461</td>\n",
       "      <td>0.247676</td>\n",
       "      <td>-1.514654</td>\n",
       "      <td>...</td>\n",
       "      <td>0.247998</td>\n",
       "      <td>0.771679</td>\n",
       "      <td>0.909412</td>\n",
       "      <td>-0.689281</td>\n",
       "      <td>-0.327642</td>\n",
       "      <td>-0.139097</td>\n",
       "      <td>-0.055353</td>\n",
       "      <td>-0.059752</td>\n",
       "      <td>378.66</td>\n",
       "      <td>0</td>\n",
       "    </tr>\n",
       "    <tr>\n",
       "      <th>3</th>\n",
       "      <td>1.0</td>\n",
       "      <td>-0.966272</td>\n",
       "      <td>-0.185226</td>\n",
       "      <td>1.792993</td>\n",
       "      <td>-0.863291</td>\n",
       "      <td>-0.010309</td>\n",
       "      <td>1.247203</td>\n",
       "      <td>0.237609</td>\n",
       "      <td>0.377436</td>\n",
       "      <td>-1.387024</td>\n",
       "      <td>...</td>\n",
       "      <td>-0.108300</td>\n",
       "      <td>0.005274</td>\n",
       "      <td>-0.190321</td>\n",
       "      <td>-1.175575</td>\n",
       "      <td>0.647376</td>\n",
       "      <td>-0.221929</td>\n",
       "      <td>0.062723</td>\n",
       "      <td>0.061458</td>\n",
       "      <td>123.50</td>\n",
       "      <td>0</td>\n",
       "    </tr>\n",
       "    <tr>\n",
       "      <th>4</th>\n",
       "      <td>2.0</td>\n",
       "      <td>-1.158233</td>\n",
       "      <td>0.877737</td>\n",
       "      <td>1.548718</td>\n",
       "      <td>0.403034</td>\n",
       "      <td>-0.407193</td>\n",
       "      <td>0.095921</td>\n",
       "      <td>0.592941</td>\n",
       "      <td>-0.270533</td>\n",
       "      <td>0.817739</td>\n",
       "      <td>...</td>\n",
       "      <td>-0.009431</td>\n",
       "      <td>0.798278</td>\n",
       "      <td>-0.137458</td>\n",
       "      <td>0.141267</td>\n",
       "      <td>-0.206010</td>\n",
       "      <td>0.502292</td>\n",
       "      <td>0.219422</td>\n",
       "      <td>0.215153</td>\n",
       "      <td>69.99</td>\n",
       "      <td>0</td>\n",
       "    </tr>\n",
       "  </tbody>\n",
       "</table>\n",
       "<p>5 rows × 31 columns</p>\n",
       "</div>"
      ],
      "text/plain": [
       "   Time        V1        V2        V3        V4        V5        V6        V7  \\\n",
       "0   0.0 -1.359807 -0.072781  2.536347  1.378155 -0.338321  0.462388  0.239599   \n",
       "1   0.0  1.191857  0.266151  0.166480  0.448154  0.060018 -0.082361 -0.078803   \n",
       "2   1.0 -1.358354 -1.340163  1.773209  0.379780 -0.503198  1.800499  0.791461   \n",
       "3   1.0 -0.966272 -0.185226  1.792993 -0.863291 -0.010309  1.247203  0.237609   \n",
       "4   2.0 -1.158233  0.877737  1.548718  0.403034 -0.407193  0.095921  0.592941   \n",
       "\n",
       "         V8        V9  ...       V21       V22       V23       V24       V25  \\\n",
       "0  0.098698  0.363787  ... -0.018307  0.277838 -0.110474  0.066928  0.128539   \n",
       "1  0.085102 -0.255425  ... -0.225775 -0.638672  0.101288 -0.339846  0.167170   \n",
       "2  0.247676 -1.514654  ...  0.247998  0.771679  0.909412 -0.689281 -0.327642   \n",
       "3  0.377436 -1.387024  ... -0.108300  0.005274 -0.190321 -1.175575  0.647376   \n",
       "4 -0.270533  0.817739  ... -0.009431  0.798278 -0.137458  0.141267 -0.206010   \n",
       "\n",
       "        V26       V27       V28  Amount  Class  \n",
       "0 -0.189115  0.133558 -0.021053  149.62      0  \n",
       "1  0.125895 -0.008983  0.014724    2.69      0  \n",
       "2 -0.139097 -0.055353 -0.059752  378.66      0  \n",
       "3 -0.221929  0.062723  0.061458  123.50      0  \n",
       "4  0.502292  0.219422  0.215153   69.99      0  \n",
       "\n",
       "[5 rows x 31 columns]"
      ]
     },
     "execution_count": 3,
     "metadata": {},
     "output_type": "execute_result"
    }
   ],
   "source": [
    "data.head()"
   ]
  },
  {
   "cell_type": "markdown",
   "metadata": {},
   "source": [
    "### Checking the target classes"
   ]
  },
  {
   "cell_type": "code",
   "execution_count": 4,
   "metadata": {
    "_uuid": "94a7f016f1d8e4be58a0fa15019d7ca9a7323d12"
   },
   "outputs": [
    {
     "name": "stdout",
     "output_type": "stream",
     "text": [
      "% of normal transaction       : 99.82725143693798\n",
      "Number of normal transaction   : 284315\n",
      "% of fraud transaction        : 0.1727485630620034\n",
      "Number of fraud transaction    : 492\n"
     ]
    },
    {
     "data": {
      "image/png": "[encoded data removed]",
      "text/plain": [
       "<Figure size 864x432 with 1 Axes>"
      ]
     },
     "metadata": {
      "needs_background": "light"
     },
     "output_type": "display_data"
    }
   ],
   "source": [
    "count_classes = pd.value_counts(data['Class'], sort=True).sort_index()\n",
    "my_pal = {0: 'navy', 1: 'red'}\n",
    "\n",
    "plt.figure(figsize=(12, 6))\n",
    "ax = sns.countplot('Class', data=data, palette=my_pal)\n",
    "plt.title(\"Fraud class histogram\")\n",
    "plt.xlabel(\"Class\")\n",
    "plt.ylabel(\"Frequency\")\n",
    "\n",
    "# get class distribution\n",
    "Count_Normal_transaction = len(data[data[\"Class\"]==0]) # normal transaction are repersented by 0\n",
    "Count_Fraud_transaction = len(data[data[\"Class\"]==1]) # fraud by 1\n",
    "\n",
    "Percentage_of_Count_Normal_transaction = Count_Normal_transaction / \\\n",
    "    (Count_Normal_transaction+Count_Fraud_transaction)\n",
    "print('% of normal transaction       :', Percentage_of_Count_Normal_transaction*100)\n",
    "print('Number of normal transaction   :', Count_Normal_transaction)\n",
    "Percentage_of_Fraud_transaction = Count_Fraud_transaction / \\\n",
    "    (Count_Normal_transaction+Count_Fraud_transaction)\n",
    "print('% of fraud transaction        :', Percentage_of_Fraud_transaction*100)\n",
    "print('Number of fraud transaction    :', Count_Fraud_transaction)"
   ]
  },
  {
   "cell_type": "markdown",
   "metadata": {},
   "source": [
    "We can see that the data is totally unbalanced! There is only 0.17 % are the fraud transcation while 99.83 are valid transcation. \n",
    "\n",
    "This is an example where using a typical accuracy score to evaluate our classification algorithm would be incorrect. For example, if we just used a majority class to assign values to all records, we will still be \n",
    "having a high accuracy, BUT WE WOULD BE CLASSIFYING ALL \"1\" INCORRECTLY!!\n",
    "\n",
    "There are several ways to approach this unbalanced classification problem-\n",
    "- Collect more data? Nice strategy but not applicable in this case\n",
    "- Changing the performance metric:\n",
    " - Use the confusion matrix to calculate Precision, Recall\n",
    " - F1 score (weighted average of precision recall)\n",
    " - Use Kappa - which is a classification accuracy normalized by the imbalance of the classes in the data\n",
    " - ROC curves - calculates sensitivity/specificity ratio.\n",
    "\n",
    "- Resampling the dataset\n",
    " - Essentially this is a method that will process the data to have an approximate 50-50 ratio.\n",
    " - One way to achieve this is by OVER-sampling, which is adding copies of the under-represented class (better when you have little data)\n",
    " - Another is UNDER-sampling, which deletes instances from the over-represented class (better when he have lot's of data)\n",
    " \n",
    "Before doing resampling lets have look at the amount related to valid transcation and fraud transcation"
   ]
  },
  {
   "cell_type": "code",
   "execution_count": 5,
   "metadata": {
    "_uuid": "e61ff8142deb7159ccf43c33cea55f9a24942f22"
   },
   "outputs": [
    {
     "data": {
      "text/plain": [
       "Text(0, 0.5, 'Amount')"
      ]
     },
     "execution_count": 5,
     "metadata": {},
     "output_type": "execute_result"
    },
    {
     "data": {
      "image/png": "[encoded data removed]",
      "text/plain": [
       "<Figure size 1080x576 with 2 Axes>"
      ]
     },
     "metadata": {
      "needs_background": "light"
     },
     "output_type": "display_data"
    }
   ],
   "source": [
    "f, (ax1, ax2) = plt.subplots(2, 1, sharex=True, figsize=(15, 8))\n",
    "\n",
    "ax1.scatter(data.Time[data.Class == 1],\n",
    "            data.Amount[data.Class == 1], color='red')\n",
    "ax1.set_title('Fraud')\n",
    "\n",
    "ax2.scatter(data.Time[data.Class == 0],\n",
    "            data.Amount[data.Class == 0],  color='navy')\n",
    "ax2.set_title('Normal')\n",
    "\n",
    "plt.xlabel('Time (in Seconds)')\n",
    "plt.ylabel('Amount')"
   ]
  },
  {
   "cell_type": "markdown",
   "metadata": {},
   "source": [
    "**The above graph shows that Time is irrelevent for detecting fraudulent transactions**"
   ]
  },
  {
   "cell_type": "code",
   "execution_count": 6,
   "metadata": {
    "_uuid": "5317e7c0bef1a6b6e2551db0447dc552410c35b5"
   },
   "outputs": [
    {
     "data": {
      "image/png": "[encoded data removed]",
      "text/plain": [
       "<Figure size 1080x648 with 2 Axes>"
      ]
     },
     "metadata": {
      "needs_background": "light"
     },
     "output_type": "display_data"
    }
   ],
   "source": [
    "f, (ax1, ax2) = plt.subplots(2, 1, sharex=True, figsize=(15,9))\n",
    "f.suptitle('Amount per transaction by class')\n",
    "\n",
    "bins = 50\n",
    "\n",
    "ax1.hist(data[data['Class']==0].Amount, bins = bins, color='red')\n",
    "ax1.set_title('Fraud')\n",
    "\n",
    "ax2.hist(data[data['Class']==0].Amount, bins = bins, color='blue')\n",
    "ax2.set_title('Normal')\n",
    "\n",
    "plt.xlabel('Amount ($)')\n",
    "plt.ylabel('Number of Transactions')\n",
    "plt.xlim((0, 20000))\n",
    "plt.yscale('log')\n",
    "plt.show();"
   ]
  },
  {
   "cell_type": "markdown",
   "metadata": {},
   "source": [
    "**The above graph shows that most of the fraudulent transactions are of very low amount.**"
   ]
  },
  {
   "cell_type": "code",
   "execution_count": 7,
   "metadata": {},
   "outputs": [
    {
     "data": {
      "image/png": "[encoded data removed]",
      "text/plain": [
       "<Figure size 1080x576 with 4 Axes>"
      ]
     },
     "metadata": {
      "needs_background": "light"
     },
     "output_type": "display_data"
    }
   ],
   "source": [
    "# correlation matrix\n",
    "f, (ax1, ax2) = plt.subplots(1, 2, figsize=(15, 8))\n",
    "\n",
    "sns.heatmap(data.query('Class==1').drop(['Class', 'Time'], 1).corr(\n",
    "), vmax=.8, square=True, ax=ax1, cmap='coolwarm')\n",
    "ax1.set_title('Fraud')\n",
    "\n",
    "sns.heatmap(data.query('Class==0').drop(['Class', 'Time'], 1).corr(\n",
    "), vmax=.8, square=True, ax=ax2, cmap='coolwarm')\n",
    "ax2.set_title('Normal')\n",
    "\n",
    "plt.show()"
   ]
  },
  {
   "cell_type": "code",
   "execution_count": 8,
   "metadata": {
    "_uuid": "4bc71f36cc92af4ce4c367375f4c861c4c81038b"
   },
   "outputs": [
    {
     "data": {
      "text/plain": [
       "0"
      ]
     },
     "execution_count": 8,
     "metadata": {},
     "output_type": "execute_result"
    }
   ],
   "source": [
    "data.isnull().any().sum()"
   ]
  },
  {
   "cell_type": "markdown",
   "metadata": {},
   "source": [
    "**No data point is missing here**"
   ]
  },
  {
   "cell_type": "markdown",
   "metadata": {
    "_uuid": "830011c000e19bbc35c3a9700db3429c3b4d3380"
   },
   "source": [
    "# <a id='3'> Data preparation</a>"
   ]
  },
  {
   "cell_type": "code",
   "execution_count": 24,
   "metadata": {},
   "outputs": [],
   "source": [
    "from sklearn.preprocessing import StandardScaler\n",
    "data['Normalized Amount'] = StandardScaler().fit_transform(data['Amount'].values.reshape(-1,1))"
   ]
  },
  {
   "cell_type": "code",
   "execution_count": 25,
   "metadata": {
    "_uuid": "cc6ebcd083b1eb333a2c1027676f6aeb16e3518d"
   },
   "outputs": [
    {
     "data": {
      "image/png": "[encoded data removed]",
      "text/plain": [
       "<Figure size 1080x576 with 2 Axes>"
      ]
     },
     "metadata": {
      "needs_background": "light"
     },
     "output_type": "display_data"
    }
   ],
   "source": [
    "f, (ax1, ax2) = plt.subplots(2,1,figsize =( 15, 8))\n",
    "\n",
    "sns.kdeplot(data['Amount'],shade=True, ax = ax1, color='red')\n",
    "ax1.set_title('Before Normalization')\n",
    "\n",
    "sns.kdeplot(data['Normalized Amount'],shade=True, ax = ax2, color='blue')\n",
    "ax2.set_title('After Normalization')\n",
    "\n",
    "plt.show()"
   ]
  },
  {
   "cell_type": "code",
   "execution_count": 44,
   "metadata": {
    "_uuid": "166adcb8c45f8cefb591acce1c3d3698d5026c18"
   },
   "outputs": [],
   "source": [
    "# Drop useless variables\n",
    "data = data.drop('Time',axis=1)"
   ]
  },
  {
   "cell_type": "code",
   "execution_count": 45,
   "metadata": {
    "_uuid": "5241cd74330c4bd343b678d51728724b700765fd"
   },
   "outputs": [
    {
     "data": {
      "text/html": [
       "<div>\n",
       "<style scoped>\n",
       "    .dataframe tbody tr th:only-of-type {\n",
       "        vertical-align: middle;\n",
       "    }\n",
       "\n",
       "    .dataframe tbody tr th {\n",
       "        vertical-align: top;\n",
       "    }\n",
       "\n",
       "    .dataframe thead th {\n",
       "        text-align: right;\n",
       "    }\n",
       "</style>\n",
       "<table border=\"1\" class=\"dataframe\">\n",
       "  <thead>\n",
       "    <tr style=\"text-align: right;\">\n",
       "      <th></th>\n",
       "      <th>V1</th>\n",
       "      <th>V2</th>\n",
       "      <th>V3</th>\n",
       "      <th>V4</th>\n",
       "      <th>V5</th>\n",
       "      <th>V6</th>\n",
       "      <th>V7</th>\n",
       "      <th>V8</th>\n",
       "      <th>V9</th>\n",
       "      <th>V10</th>\n",
       "      <th>...</th>\n",
       "      <th>V21</th>\n",
       "      <th>V22</th>\n",
       "      <th>V23</th>\n",
       "      <th>V24</th>\n",
       "      <th>V25</th>\n",
       "      <th>V26</th>\n",
       "      <th>V27</th>\n",
       "      <th>V28</th>\n",
       "      <th>Amount</th>\n",
       "      <th>Class</th>\n",
       "    </tr>\n",
       "  </thead>\n",
       "  <tbody>\n",
       "    <tr>\n",
       "      <th>count</th>\n",
       "      <td>2.848070e+05</td>\n",
       "      <td>2.848070e+05</td>\n",
       "      <td>2.848070e+05</td>\n",
       "      <td>2.848070e+05</td>\n",
       "      <td>2.848070e+05</td>\n",
       "      <td>2.848070e+05</td>\n",
       "      <td>2.848070e+05</td>\n",
       "      <td>2.848070e+05</td>\n",
       "      <td>2.848070e+05</td>\n",
       "      <td>2.848070e+05</td>\n",
       "      <td>...</td>\n",
       "      <td>2.848070e+05</td>\n",
       "      <td>2.848070e+05</td>\n",
       "      <td>2.848070e+05</td>\n",
       "      <td>2.848070e+05</td>\n",
       "      <td>2.848070e+05</td>\n",
       "      <td>2.848070e+05</td>\n",
       "      <td>2.848070e+05</td>\n",
       "      <td>2.848070e+05</td>\n",
       "      <td>284807.000000</td>\n",
       "      <td>284807.000000</td>\n",
       "    </tr>\n",
       "    <tr>\n",
       "      <th>mean</th>\n",
       "      <td>3.919560e-15</td>\n",
       "      <td>5.688174e-16</td>\n",
       "      <td>-8.769071e-15</td>\n",
       "      <td>2.782312e-15</td>\n",
       "      <td>-1.552563e-15</td>\n",
       "      <td>2.010663e-15</td>\n",
       "      <td>-1.694249e-15</td>\n",
       "      <td>-1.927028e-16</td>\n",
       "      <td>-3.137024e-15</td>\n",
       "      <td>1.768627e-15</td>\n",
       "      <td>...</td>\n",
       "      <td>1.537294e-16</td>\n",
       "      <td>7.959909e-16</td>\n",
       "      <td>5.367590e-16</td>\n",
       "      <td>4.458112e-15</td>\n",
       "      <td>1.453003e-15</td>\n",
       "      <td>1.699104e-15</td>\n",
       "      <td>-3.660161e-16</td>\n",
       "      <td>-1.206049e-16</td>\n",
       "      <td>88.349619</td>\n",
       "      <td>0.001727</td>\n",
       "    </tr>\n",
       "    <tr>\n",
       "      <th>std</th>\n",
       "      <td>1.958696e+00</td>\n",
       "      <td>1.651309e+00</td>\n",
       "      <td>1.516255e+00</td>\n",
       "      <td>1.415869e+00</td>\n",
       "      <td>1.380247e+00</td>\n",
       "      <td>1.332271e+00</td>\n",
       "      <td>1.237094e+00</td>\n",
       "      <td>1.194353e+00</td>\n",
       "      <td>1.098632e+00</td>\n",
       "      <td>1.088850e+00</td>\n",
       "      <td>...</td>\n",
       "      <td>7.345240e-01</td>\n",
       "      <td>7.257016e-01</td>\n",
       "      <td>6.244603e-01</td>\n",
       "      <td>6.056471e-01</td>\n",
       "      <td>5.212781e-01</td>\n",
       "      <td>4.822270e-01</td>\n",
       "      <td>4.036325e-01</td>\n",
       "      <td>3.300833e-01</td>\n",
       "      <td>250.120109</td>\n",
       "      <td>0.041527</td>\n",
       "    </tr>\n",
       "    <tr>\n",
       "      <th>min</th>\n",
       "      <td>-5.640751e+01</td>\n",
       "      <td>-7.271573e+01</td>\n",
       "      <td>-4.832559e+01</td>\n",
       "      <td>-5.683171e+00</td>\n",
       "      <td>-1.137433e+02</td>\n",
       "      <td>-2.616051e+01</td>\n",
       "      <td>-4.355724e+01</td>\n",
       "      <td>-7.321672e+01</td>\n",
       "      <td>-1.343407e+01</td>\n",
       "      <td>-2.458826e+01</td>\n",
       "      <td>...</td>\n",
       "      <td>-3.483038e+01</td>\n",
       "      <td>-1.093314e+01</td>\n",
       "      <td>-4.480774e+01</td>\n",
       "      <td>-2.836627e+00</td>\n",
       "      <td>-1.029540e+01</td>\n",
       "      <td>-2.604551e+00</td>\n",
       "      <td>-2.256568e+01</td>\n",
       "      <td>-1.543008e+01</td>\n",
       "      <td>0.000000</td>\n",
       "      <td>0.000000</td>\n",
       "    </tr>\n",
       "    <tr>\n",
       "      <th>25%</th>\n",
       "      <td>-9.203734e-01</td>\n",
       "      <td>-5.985499e-01</td>\n",
       "      <td>-8.903648e-01</td>\n",
       "      <td>-8.486401e-01</td>\n",
       "      <td>-6.915971e-01</td>\n",
       "      <td>-7.682956e-01</td>\n",
       "      <td>-5.540759e-01</td>\n",
       "      <td>-2.086297e-01</td>\n",
       "      <td>-6.430976e-01</td>\n",
       "      <td>-5.354257e-01</td>\n",
       "      <td>...</td>\n",
       "      <td>-2.283949e-01</td>\n",
       "      <td>-5.423504e-01</td>\n",
       "      <td>-1.618463e-01</td>\n",
       "      <td>-3.545861e-01</td>\n",
       "      <td>-3.171451e-01</td>\n",
       "      <td>-3.269839e-01</td>\n",
       "      <td>-7.083953e-02</td>\n",
       "      <td>-5.295979e-02</td>\n",
       "      <td>5.600000</td>\n",
       "      <td>0.000000</td>\n",
       "    </tr>\n",
       "    <tr>\n",
       "      <th>50%</th>\n",
       "      <td>1.810880e-02</td>\n",
       "      <td>6.548556e-02</td>\n",
       "      <td>1.798463e-01</td>\n",
       "      <td>-1.984653e-02</td>\n",
       "      <td>-5.433583e-02</td>\n",
       "      <td>-2.741871e-01</td>\n",
       "      <td>4.010308e-02</td>\n",
       "      <td>2.235804e-02</td>\n",
       "      <td>-5.142873e-02</td>\n",
       "      <td>-9.291738e-02</td>\n",
       "      <td>...</td>\n",
       "      <td>-2.945017e-02</td>\n",
       "      <td>6.781943e-03</td>\n",
       "      <td>-1.119293e-02</td>\n",
       "      <td>4.097606e-02</td>\n",
       "      <td>1.659350e-02</td>\n",
       "      <td>-5.213911e-02</td>\n",
       "      <td>1.342146e-03</td>\n",
       "      <td>1.124383e-02</td>\n",
       "      <td>22.000000</td>\n",
       "      <td>0.000000</td>\n",
       "    </tr>\n",
       "    <tr>\n",
       "      <th>75%</th>\n",
       "      <td>1.315642e+00</td>\n",
       "      <td>8.037239e-01</td>\n",
       "      <td>1.027196e+00</td>\n",
       "      <td>7.433413e-01</td>\n",
       "      <td>6.119264e-01</td>\n",
       "      <td>3.985649e-01</td>\n",
       "      <td>5.704361e-01</td>\n",
       "      <td>3.273459e-01</td>\n",
       "      <td>5.971390e-01</td>\n",
       "      <td>4.539234e-01</td>\n",
       "      <td>...</td>\n",
       "      <td>1.863772e-01</td>\n",
       "      <td>5.285536e-01</td>\n",
       "      <td>1.476421e-01</td>\n",
       "      <td>4.395266e-01</td>\n",
       "      <td>3.507156e-01</td>\n",
       "      <td>2.409522e-01</td>\n",
       "      <td>9.104512e-02</td>\n",
       "      <td>7.827995e-02</td>\n",
       "      <td>77.165000</td>\n",
       "      <td>0.000000</td>\n",
       "    </tr>\n",
       "    <tr>\n",
       "      <th>max</th>\n",
       "      <td>2.454930e+00</td>\n",
       "      <td>2.205773e+01</td>\n",
       "      <td>9.382558e+00</td>\n",
       "      <td>1.687534e+01</td>\n",
       "      <td>3.480167e+01</td>\n",
       "      <td>7.330163e+01</td>\n",
       "      <td>1.205895e+02</td>\n",
       "      <td>2.000721e+01</td>\n",
       "      <td>1.559499e+01</td>\n",
       "      <td>2.374514e+01</td>\n",
       "      <td>...</td>\n",
       "      <td>2.720284e+01</td>\n",
       "      <td>1.050309e+01</td>\n",
       "      <td>2.252841e+01</td>\n",
       "      <td>4.584549e+00</td>\n",
       "      <td>7.519589e+00</td>\n",
       "      <td>3.517346e+00</td>\n",
       "      <td>3.161220e+01</td>\n",
       "      <td>3.384781e+01</td>\n",
       "      <td>25691.160000</td>\n",
       "      <td>1.000000</td>\n",
       "    </tr>\n",
       "  </tbody>\n",
       "</table>\n",
       "<p>8 rows × 30 columns</p>\n",
       "</div>"
      ],
      "text/plain": [
       "                 V1            V2            V3            V4            V5  \\\n",
       "count  2.848070e+05  2.848070e+05  2.848070e+05  2.848070e+05  2.848070e+05   \n",
       "mean   3.919560e-15  5.688174e-16 -8.769071e-15  2.782312e-15 -1.552563e-15   \n",
       "std    1.958696e+00  1.651309e+00  1.516255e+00  1.415869e+00  1.380247e+00   \n",
       "min   -5.640751e+01 -7.271573e+01 -4.832559e+01 -5.683171e+00 -1.137433e+02   \n",
       "25%   -9.203734e-01 -5.985499e-01 -8.903648e-01 -8.486401e-01 -6.915971e-01   \n",
       "50%    1.810880e-02  6.548556e-02  1.798463e-01 -1.984653e-02 -5.433583e-02   \n",
       "75%    1.315642e+00  8.037239e-01  1.027196e+00  7.433413e-01  6.119264e-01   \n",
       "max    2.454930e+00  2.205773e+01  9.382558e+00  1.687534e+01  3.480167e+01   \n",
       "\n",
       "                 V6            V7            V8            V9           V10  \\\n",
       "count  2.848070e+05  2.848070e+05  2.848070e+05  2.848070e+05  2.848070e+05   \n",
       "mean   2.010663e-15 -1.694249e-15 -1.927028e-16 -3.137024e-15  1.768627e-15   \n",
       "std    1.332271e+00  1.237094e+00  1.194353e+00  1.098632e+00  1.088850e+00   \n",
       "min   -2.616051e+01 -4.355724e+01 -7.321672e+01 -1.343407e+01 -2.458826e+01   \n",
       "25%   -7.682956e-01 -5.540759e-01 -2.086297e-01 -6.430976e-01 -5.354257e-01   \n",
       "50%   -2.741871e-01  4.010308e-02  2.235804e-02 -5.142873e-02 -9.291738e-02   \n",
       "75%    3.985649e-01  5.704361e-01  3.273459e-01  5.971390e-01  4.539234e-01   \n",
       "max    7.330163e+01  1.205895e+02  2.000721e+01  1.559499e+01  2.374514e+01   \n",
       "\n",
       "       ...           V21           V22           V23           V24  \\\n",
       "count  ...  2.848070e+05  2.848070e+05  2.848070e+05  2.848070e+05   \n",
       "mean   ...  1.537294e-16  7.959909e-16  5.367590e-16  4.458112e-15   \n",
       "std    ...  7.345240e-01  7.257016e-01  6.244603e-01  6.056471e-01   \n",
       "min    ... -3.483038e+01 -1.093314e+01 -4.480774e+01 -2.836627e+00   \n",
       "25%    ... -2.283949e-01 -5.423504e-01 -1.618463e-01 -3.545861e-01   \n",
       "50%    ... -2.945017e-02  6.781943e-03 -1.119293e-02  4.097606e-02   \n",
       "75%    ...  1.863772e-01  5.285536e-01  1.476421e-01  4.395266e-01   \n",
       "max    ...  2.720284e+01  1.050309e+01  2.252841e+01  4.584549e+00   \n",
       "\n",
       "                V25           V26           V27           V28         Amount  \\\n",
       "count  2.848070e+05  2.848070e+05  2.848070e+05  2.848070e+05  284807.000000   \n",
       "mean   1.453003e-15  1.699104e-15 -3.660161e-16 -1.206049e-16      88.349619   \n",
       "std    5.212781e-01  4.822270e-01  4.036325e-01  3.300833e-01     250.120109   \n",
       "min   -1.029540e+01 -2.604551e+00 -2.256568e+01 -1.543008e+01       0.000000   \n",
       "25%   -3.171451e-01 -3.269839e-01 -7.083953e-02 -5.295979e-02       5.600000   \n",
       "50%    1.659350e-02 -5.213911e-02  1.342146e-03  1.124383e-02      22.000000   \n",
       "75%    3.507156e-01  2.409522e-01  9.104512e-02  7.827995e-02      77.165000   \n",
       "max    7.519589e+00  3.517346e+00  3.161220e+01  3.384781e+01   25691.160000   \n",
       "\n",
       "               Class  \n",
       "count  284807.000000  \n",
       "mean        0.001727  \n",
       "std         0.041527  \n",
       "min         0.000000  \n",
       "25%         0.000000  \n",
       "50%         0.000000  \n",
       "75%         0.000000  \n",
       "max         1.000000  \n",
       "\n",
       "[8 rows x 30 columns]"
      ]
     },
     "execution_count": 45,
     "metadata": {},
     "output_type": "execute_result"
    }
   ],
   "source": [
    "data.describe()"
   ]
  },
  {
   "cell_type": "markdown",
   "metadata": {
    "_uuid": "b29666b58e5d2a8b83048ffdf014a1adba6359b4"
   },
   "source": [
    "## <a id='3.1'>3.1. Cut dataset</a>"
   ]
  },
  {
   "cell_type": "markdown",
   "metadata": {
    "_uuid": "688d6e82139d87edae0db57c3bccd0128b652a1a"
   },
   "source": [
    "one for train and test (skf) = 90%, other for validation = 10%"
   ]
  },
  {
   "cell_type": "code",
   "execution_count": 25,
   "metadata": {
    "_uuid": "6007f03e5babbf01cc419cc15399b25a15a624ad"
   },
   "outputs": [],
   "source": [
    "# Cut in 2 datasets, one for training & test, other for validation\n",
    "from sklearn.model_selection import train_test_split\n",
    "x = data.drop([\"Class\"], axis = 1)\n",
    "y = data[\"Class\"]\n",
    "\n",
    "x_train, x_test, y_train, y_test = train_test_split(x,y, test_size = 0.1, random_state = 101)"
   ]
  },
  {
   "cell_type": "markdown",
   "metadata": {
    "_uuid": "64a8f45ca6059b44f2e74ca24023f4e3746eb70e"
   },
   "source": [
    "## <a id='#3.2'>3.2. Normalization Amount</a>"
   ]
  },
  {
   "cell_type": "markdown",
   "metadata": {
    "_uuid": "3664056ad2e2765e862cd7b900a00ceb95f45cfc"
   },
   "source": [
    "![](https://image.noelshack.com/fichiers/2018/20/5/1526651303-normalization.png)\n",
    "source : https://www.slideshare.net/DhianaDevaRocha/qcon-rio-machine-learning-for-everyone"
   ]
  },
  {
   "cell_type": "markdown",
   "metadata": {
    "_uuid": "47766606056b0fbb3e198c79b82ee99224dee9cb"
   },
   "source": [
    "## <a id='3.3'>3.3. Drop useless variables</a>"
   ]
  },
  {
   "cell_type": "markdown",
   "metadata": {
    "_uuid": "5572842ed287d850b5184575aaf82f642f536bc2"
   },
   "source": [
    "# <a id='4'>4. Define metrics</a>"
   ]
  },
  {
   "cell_type": "markdown",
   "metadata": {
    "_uuid": "75d9b3003ea9651e8bd0eb78e15d33339f45818f"
   },
   "source": [
    "\n",
    "\n",
    "Imbalanced Data\n",
    "Here we now find the core problem of our data set. The classes are extremely imbalanced. As a result, we would achieve an accuracy of 99% if we only guess that there is no fraud. But that wouldn't add value and we wouldn't need a model.\n",
    "\n",
    "If we look at this in a logistic regression and a random forest model, you can see that the accuracy would be really good. Therefore I still use the ROC-AUC values as well as Precision/Recall/F-Score and draw a confusion matrix.\n",
    "\n",
    "Confusionmatrix\n",
    "\n",
    "The Confusion Matrix tells us how many True Positive, False Positive, False Negative and True Negative we have (from left to right and top to bottom).\n",
    "\n",
    "![](https://image.noelshack.com/fichiers/2018/20/5/1526651367-qcon-rio-machine-learning-for-everyone-51-638-1.jpg)\n",
    "source : https://www.slideshare.net/DhianaDevaRocha/qcon-rio-machine-learning-for-everyone\n",
    "\n",
    "\n",
    "ROC-AUC\n",
    "\n",
    "ROC-AUC-Score is a quality criterion for our model that tells us how well the model can separate between the two expressions.\n",
    "\n",
    "Precision\n",
    "\n",
    "Precision tells us how many elements have been correctly assigned in relation to the false positives. If we have a low Precision this speaks for many False Positives.False positives in this case would be values that were classified as fraud but are not. In the real world this would increase our staff costs. It could also reduce customer satisfaction if payments were frozen for no reason.\n",
    "\n",
    "Precison = TP/(TP+FP)\n",
    "\n",
    "\n",
    "\n",
    "Recall\n",
    "\n",
    "Recall, on the other hand, refers to the false negatives and indicates our accuracy in the reference. A high recall thus speaks for a model that has few false negatives. We would like to prevent false negatives in this case most likely. These would be cases of fraud that are classified as \"no fraud\". Therefore we look further to find a model that has as high a recall as possible, but does not cause unnecessary costs by generating too many false positives.\n",
    "\n",
    "\n",
    "Recall = TP/(TP+FN)\n",
    "\n",
    "\n",
    "f1-Score\n",
    "This value expresses the precision and the recall in one value and can generally be interpreted as model quality.\n",
    "\n"
   ]
  },
  {
   "cell_type": "code",
   "execution_count": 26,
   "metadata": {},
   "outputs": [],
   "source": [
    "def plot_roc():\n",
    "    plt.plot(roc_curve(y_test, pred)[0],roc_curve(y_test, pred)[1], label = 'ROC curve', linewidth = 2)\n",
    "    plt.plot([0,1],[0,1], 'k--', linewidth = 2)\n",
    "    plt.xlim([0.0,0.001])\n",
    "    plt.ylim([0.0,1.05])\n",
    "    plt.xlabel('False Positive Rate')\n",
    "    plt.ylabel('True Positive Rate')\n",
    "    plt.title('ROC Curve')\n",
    "    plt.show()"
   ]
  },
  {
   "cell_type": "code",
   "execution_count": 27,
   "metadata": {},
   "outputs": [
    {
     "name": "stdout",
     "output_type": "stream",
     "text": [
      " Logistic Regression\n",
      "----------------------\n",
      "Model Score: 0.9989817773252344\n",
      "ROC_AUC_Score 0.7798768949386233\n",
      "              precision    recall  f1-score   support\n",
      "\n",
      "           0       1.00      1.00      1.00     28431\n",
      "           1       0.80      0.56      0.66        50\n",
      "\n",
      "   micro avg       1.00      1.00      1.00     28481\n",
      "   macro avg       0.90      0.78      0.83     28481\n",
      "weighted avg       1.00      1.00      1.00     28481\n",
      "\n"
     ]
    },
    {
     "data": {
      "image/png": "[encoded data removed]",
      "text/plain": [
       "<Figure size 432x288 with 2 Axes>"
      ]
     },
     "metadata": {
      "needs_background": "light"
     },
     "output_type": "display_data"
    },
    {
     "data": {
      "image/png": "[encoded data removed]",
      "text/plain": [
       "<Figure size 432x288 with 1 Axes>"
      ]
     },
     "metadata": {
      "needs_background": "light"
     },
     "output_type": "display_data"
    }
   ],
   "source": [
    "print(' Logistic Regression')\n",
    "print('----------------------')\n",
    "\n",
    "\n",
    "model = LogisticRegression()\n",
    "model.fit(x_train, y_train)\n",
    "pred = model.predict(x_test)\n",
    "print('Model Score:', +.score(x_test, y_test))\n",
    "\n",
    "roc_auc = roc_auc_score(y_test, pred)\n",
    "print('ROC_AUC_Score',roc_auc)\n",
    "\n",
    "print(classification_report(y_test, pred))\n",
    "\n",
    "con = confusion_matrix(y_test, pred)\n",
    "sns.heatmap(con, annot=True)\n",
    "plt.show()\n",
    "\n",
    "plot_roc()"
   ]
  },
  {
   "cell_type": "code",
   "execution_count": null,
   "metadata": {},
   "outputs": [],
   "source": [
    "# Find the best parameters : recall optimisation\n",
    "from sklearn.model_selection import GridSearchCV\n",
    "param_grid = {\n",
    "            'penalty' : ['l1','l2'], \n",
    "            'class_weight' : ['balanced', None], \n",
    "            'C' : [0.1, 1, 10]\n",
    "            }"
   ]
  },
  {
   "cell_type": "code",
   "execution_count": null,
   "metadata": {},
   "outputs": [],
   "source": [
    "CV_log_cfl = GridSearchCV(estimator = model, param_grid = param_grid , scoring = 'recall', verbose = 1, n_jobs = -1)\n",
    "CV_log_cfl.fit(x_train, y_train)"
   ]
  },
  {
   "cell_type": "code",
   "execution_count": 31,
   "metadata": {},
   "outputs": [
    {
     "name": "stdout",
     "output_type": "stream",
     "text": [
      "The best parameters for using this model is {'C': 0.1, 'class_weight': 'balanced', 'penalty': 'l1'}\n"
     ]
    }
   ],
   "source": [
    "best_parameters = CV_log_cfl.best_params_\n",
    "print('The best parameters for using this model is', best_parameters)"
   ]
  },
  {
   "cell_type": "code",
   "execution_count": 33,
   "metadata": {},
   "outputs": [
    {
     "name": "stdout",
     "output_type": "stream",
     "text": [
      "Model Score: 0.978160879182613\n",
      "ROC_AUC_Score 0.9690964088494953\n",
      "              precision    recall  f1-score   support\n",
      "\n",
      "           0       1.00      0.98      0.99     28431\n",
      "           1       0.07      0.96      0.13        50\n",
      "\n",
      "   micro avg       0.98      0.98      0.98     28481\n",
      "   macro avg       0.54      0.97      0.56     28481\n",
      "weighted avg       1.00      0.98      0.99     28481\n",
      "\n"
     ]
    },
    {
     "data": {
      "image/png": "[encoded data removed]",
      "text/plain": [
       "<Figure size 432x288 with 2 Axes>"
      ]
     },
     "metadata": {
      "needs_background": "light"
     },
     "output_type": "display_data"
    },
    {
     "data": {
      "image/png": "[encoded data removed]",
      "text/plain": [
       "<Figure size 432x288 with 1 Axes>"
      ]
     },
     "metadata": {
      "needs_background": "light"
     },
     "output_type": "display_data"
    }
   ],
   "source": [
    "model = LogisticRegression(C = best_parameters['C'], \n",
    "                             penalty = best_parameters['penalty'], \n",
    "                             class_weight = best_parameters['class_weight'])\n",
    "model.fit(x_train, y_train)\n",
    "pred = model.predict(x_test)\n",
    "print('Model Score:', model.score(x_test, y_test))\n",
    "\n",
    "roc_auc = roc_auc_score(y_test, pred)\n",
    "print('ROC_AUC_Score',roc_auc)\n",
    "\n",
    "print(classification_report(y_test, pred))\n",
    "\n",
    "con = confusion_matrix(y_test, pred)\n",
    "sns.heatmap(con, annot=True)\n",
    "plt.show()\n",
    "\n",
    "plot_roc()"
   ]
  },
  {
   "cell_type": "code",
   "execution_count": 36,
   "metadata": {},
   "outputs": [
    {
     "name": "stdout",
     "output_type": "stream",
     "text": [
      " Random Forest\n",
      "------------------\n",
      "Model Score: 0.9995786664794073\n",
      "ROC_AUC_Score 0.9099472406879813\n",
      "              precision    recall  f1-score   support\n",
      "\n",
      "           0       1.00      1.00      1.00     28431\n",
      "           1       0.93      0.82      0.87        50\n",
      "\n",
      "   micro avg       1.00      1.00      1.00     28481\n",
      "   macro avg       0.97      0.91      0.94     28481\n",
      "weighted avg       1.00      1.00      1.00     28481\n",
      "\n"
     ]
    },
    {
     "data": {
      "image/png": "[encoded data removed]",
      "text/plain": [
       "<Figure size 432x288 with 2 Axes>"
      ]
     },
     "metadata": {
      "needs_background": "light"
     },
     "output_type": "display_data"
    }
   ],
   "source": [
    "print(' Random Forest')\n",
    "print('------------------')\n",
    "\n",
    "\n",
    "rf_cfl = RandomForestClassifier()\n",
    "rf_cfl.fit(x_train, y_train)\n",
    "pred = model.predict(x_test)\n",
    "print('Model Score:', model.score(x_test, y_test))\n",
    "\n",
    "roc_auc = roc_auc_score(y_test, pred)\n",
    "print('ROC_AUC_Score',roc_auc)\n",
    "\n",
    "print(classification_report(y_test, pred))\n",
    "\n",
    "con = confusion_matrix(y_test, pred)\n",
    "sns.heatmap(con, annot=True)\n",
    "plt.show()"
   ]
  },
  {
   "cell_type": "code",
   "execution_count": 38,
   "metadata": {},
   "outputs": [
    {
     "name": "stdout",
     "output_type": "stream",
     "text": [
      "Fitting 3 folds for each of 36 candidates, totalling 108 fits\n"
     ]
    },
    {
     "name": "stderr",
     "output_type": "stream",
     "text": [
      "[Parallel(n_jobs=-1)]: Using backend LokyBackend with 4 concurrent workers.\n",
      "[Parallel(n_jobs=-1)]: Done   5 tasks      | elapsed:  9.7min\n",
      "[Parallel(n_jobs=-1)]: Done  10 tasks      | elapsed: 17.6min\n"
     ]
    },
    {
     "ename": "KeyboardInterrupt",
     "evalue": "",
     "output_type": "error",
     "traceback": [
      "\u001b[0;31m---------------------------------------------------------------------------\u001b[0m",
      "\u001b[0;31mKeyboardInterrupt\u001b[0m                         Traceback (most recent call last)",
      "\u001b[0;32m<ipython-input-38-ba568dd95cfb>\u001b[0m in \u001b[0;36m<module>\u001b[0;34m\u001b[0m\n\u001b[1;32m      7\u001b[0m \u001b[0;34m\u001b[0m\u001b[0m\n\u001b[1;32m      8\u001b[0m \u001b[0mCV_rnd_cfl\u001b[0m \u001b[0;34m=\u001b[0m \u001b[0mGridSearchCV\u001b[0m\u001b[0;34m(\u001b[0m\u001b[0mestimator\u001b[0m \u001b[0;34m=\u001b[0m \u001b[0mrf_cfl\u001b[0m\u001b[0;34m,\u001b[0m \u001b[0mparam_grid\u001b[0m \u001b[0;34m=\u001b[0m \u001b[0mparam_grid\u001b[0m\u001b[0;34m,\u001b[0m \u001b[0mscoring\u001b[0m \u001b[0;34m=\u001b[0m \u001b[0;34m'f1'\u001b[0m\u001b[0;34m,\u001b[0m \u001b[0mverbose\u001b[0m \u001b[0;34m=\u001b[0m \u001b[0;36m10\u001b[0m\u001b[0;34m,\u001b[0m \u001b[0mn_jobs\u001b[0m \u001b[0;34m=\u001b[0m \u001b[0;34m-\u001b[0m\u001b[0;36m1\u001b[0m\u001b[0;34m)\u001b[0m\u001b[0;34m\u001b[0m\u001b[0;34m\u001b[0m\u001b[0m\n\u001b[0;32m----> 9\u001b[0;31m \u001b[0mCV_rnd_cfl\u001b[0m\u001b[0;34m.\u001b[0m\u001b[0mfit\u001b[0m\u001b[0;34m(\u001b[0m\u001b[0mx_train\u001b[0m\u001b[0;34m,\u001b[0m \u001b[0my_train\u001b[0m\u001b[0;34m)\u001b[0m\u001b[0;34m\u001b[0m\u001b[0;34m\u001b[0m\u001b[0m\n\u001b[0m\u001b[1;32m     10\u001b[0m \u001b[0;34m\u001b[0m\u001b[0m\n\u001b[1;32m     11\u001b[0m \u001b[0mbest_parameters\u001b[0m \u001b[0;34m=\u001b[0m \u001b[0mCV_rf_cfl\u001b[0m\u001b[0;34m.\u001b[0m\u001b[0mbest_params_\u001b[0m\u001b[0;34m\u001b[0m\u001b[0;34m\u001b[0m\u001b[0m\n",
      "\u001b[0;32m~/anaconda3/lib/python3.6/site-packages/sklearn/model_selection/_search.py\u001b[0m in \u001b[0;36mfit\u001b[0;34m(self, X, y, groups, **fit_params)\u001b[0m\n\u001b[1;32m    720\u001b[0m                 \u001b[0;32mreturn\u001b[0m \u001b[0mresults_container\u001b[0m\u001b[0;34m[\u001b[0m\u001b[0;36m0\u001b[0m\u001b[0;34m]\u001b[0m\u001b[0;34m\u001b[0m\u001b[0;34m\u001b[0m\u001b[0m\n\u001b[1;32m    721\u001b[0m \u001b[0;34m\u001b[0m\u001b[0m\n\u001b[0;32m--> 722\u001b[0;31m             \u001b[0mself\u001b[0m\u001b[0;34m.\u001b[0m\u001b[0m_run_search\u001b[0m\u001b[0;34m(\u001b[0m\u001b[0mevaluate_candidates\u001b[0m\u001b[0;34m)\u001b[0m\u001b[0;34m\u001b[0m\u001b[0;34m\u001b[0m\u001b[0m\n\u001b[0m\u001b[1;32m    723\u001b[0m \u001b[0;34m\u001b[0m\u001b[0m\n\u001b[1;32m    724\u001b[0m         \u001b[0mresults\u001b[0m \u001b[0;34m=\u001b[0m \u001b[0mresults_container\u001b[0m\u001b[0;34m[\u001b[0m\u001b[0;36m0\u001b[0m\u001b[0;34m]\u001b[0m\u001b[0;34m\u001b[0m\u001b[0;34m\u001b[0m\u001b[0m\n",
      "\u001b[0;32m~/anaconda3/lib/python3.6/site-packages/sklearn/model_selection/_search.py\u001b[0m in \u001b[0;36m_run_search\u001b[0;34m(self, evaluate_candidates)\u001b[0m\n\u001b[1;32m   1189\u001b[0m     \u001b[0;32mdef\u001b[0m \u001b[0m_run_search\u001b[0m\u001b[0;34m(\u001b[0m\u001b[0mself\u001b[0m\u001b[0;34m,\u001b[0m \u001b[0mevaluate_candidates\u001b[0m\u001b[0;34m)\u001b[0m\u001b[0;34m:\u001b[0m\u001b[0;34m\u001b[0m\u001b[0;34m\u001b[0m\u001b[0m\n\u001b[1;32m   1190\u001b[0m         \u001b[0;34m\"\"\"Search all candidates in param_grid\"\"\"\u001b[0m\u001b[0;34m\u001b[0m\u001b[0;34m\u001b[0m\u001b[0m\n\u001b[0;32m-> 1191\u001b[0;31m         \u001b[0mevaluate_candidates\u001b[0m\u001b[0;34m(\u001b[0m\u001b[0mParameterGrid\u001b[0m\u001b[0;34m(\u001b[0m\u001b[0mself\u001b[0m\u001b[0;34m.\u001b[0m\u001b[0mparam_grid\u001b[0m\u001b[0;34m)\u001b[0m\u001b[0;34m)\u001b[0m\u001b[0;34m\u001b[0m\u001b[0;34m\u001b[0m\u001b[0m\n\u001b[0m\u001b[1;32m   1192\u001b[0m \u001b[0;34m\u001b[0m\u001b[0m\n\u001b[1;32m   1193\u001b[0m \u001b[0;34m\u001b[0m\u001b[0m\n",
      "\u001b[0;32m~/anaconda3/lib/python3.6/site-packages/sklearn/model_selection/_search.py\u001b[0m in \u001b[0;36mevaluate_candidates\u001b[0;34m(candidate_params)\u001b[0m\n\u001b[1;32m    709\u001b[0m                                \u001b[0;32mfor\u001b[0m \u001b[0mparameters\u001b[0m\u001b[0;34m,\u001b[0m \u001b[0;34m(\u001b[0m\u001b[0mtrain\u001b[0m\u001b[0;34m,\u001b[0m \u001b[0mtest\u001b[0m\u001b[0;34m)\u001b[0m\u001b[0;34m\u001b[0m\u001b[0;34m\u001b[0m\u001b[0m\n\u001b[1;32m    710\u001b[0m                                in product(candidate_params,\n\u001b[0;32m--> 711\u001b[0;31m                                           cv.split(X, y, groups)))\n\u001b[0m\u001b[1;32m    712\u001b[0m \u001b[0;34m\u001b[0m\u001b[0m\n\u001b[1;32m    713\u001b[0m                 \u001b[0mall_candidate_params\u001b[0m\u001b[0;34m.\u001b[0m\u001b[0mextend\u001b[0m\u001b[0;34m(\u001b[0m\u001b[0mcandidate_params\u001b[0m\u001b[0;34m)\u001b[0m\u001b[0;34m\u001b[0m\u001b[0;34m\u001b[0m\u001b[0m\n",
      "\u001b[0;32m~/anaconda3/lib/python3.6/site-packages/sklearn/externals/joblib/parallel.py\u001b[0m in \u001b[0;36m__call__\u001b[0;34m(self, iterable)\u001b[0m\n\u001b[1;32m    928\u001b[0m \u001b[0;34m\u001b[0m\u001b[0m\n\u001b[1;32m    929\u001b[0m             \u001b[0;32mwith\u001b[0m \u001b[0mself\u001b[0m\u001b[0;34m.\u001b[0m\u001b[0m_backend\u001b[0m\u001b[0;34m.\u001b[0m\u001b[0mretrieval_context\u001b[0m\u001b[0;34m(\u001b[0m\u001b[0;34m)\u001b[0m\u001b[0;34m:\u001b[0m\u001b[0;34m\u001b[0m\u001b[0;34m\u001b[0m\u001b[0m\n\u001b[0;32m--> 930\u001b[0;31m                 \u001b[0mself\u001b[0m\u001b[0;34m.\u001b[0m\u001b[0mretrieve\u001b[0m\u001b[0;34m(\u001b[0m\u001b[0;34m)\u001b[0m\u001b[0;34m\u001b[0m\u001b[0;34m\u001b[0m\u001b[0m\n\u001b[0m\u001b[1;32m    931\u001b[0m             \u001b[0;31m# Make sure that we get a last message telling us we are done\u001b[0m\u001b[0;34m\u001b[0m\u001b[0;34m\u001b[0m\u001b[0;34m\u001b[0m\u001b[0m\n\u001b[1;32m    932\u001b[0m             \u001b[0melapsed_time\u001b[0m \u001b[0;34m=\u001b[0m \u001b[0mtime\u001b[0m\u001b[0;34m.\u001b[0m\u001b[0mtime\u001b[0m\u001b[0;34m(\u001b[0m\u001b[0;34m)\u001b[0m \u001b[0;34m-\u001b[0m \u001b[0mself\u001b[0m\u001b[0;34m.\u001b[0m\u001b[0m_start_time\u001b[0m\u001b[0;34m\u001b[0m\u001b[0;34m\u001b[0m\u001b[0m\n",
      "\u001b[0;32m~/anaconda3/lib/python3.6/site-packages/sklearn/externals/joblib/parallel.py\u001b[0m in \u001b[0;36mretrieve\u001b[0;34m(self)\u001b[0m\n\u001b[1;32m    831\u001b[0m             \u001b[0;32mtry\u001b[0m\u001b[0;34m:\u001b[0m\u001b[0;34m\u001b[0m\u001b[0;34m\u001b[0m\u001b[0m\n\u001b[1;32m    832\u001b[0m                 \u001b[0;32mif\u001b[0m \u001b[0mgetattr\u001b[0m\u001b[0;34m(\u001b[0m\u001b[0mself\u001b[0m\u001b[0;34m.\u001b[0m\u001b[0m_backend\u001b[0m\u001b[0;34m,\u001b[0m \u001b[0;34m'supports_timeout'\u001b[0m\u001b[0;34m,\u001b[0m \u001b[0;32mFalse\u001b[0m\u001b[0;34m)\u001b[0m\u001b[0;34m:\u001b[0m\u001b[0;34m\u001b[0m\u001b[0;34m\u001b[0m\u001b[0m\n\u001b[0;32m--> 833\u001b[0;31m                     \u001b[0mself\u001b[0m\u001b[0;34m.\u001b[0m\u001b[0m_output\u001b[0m\u001b[0;34m.\u001b[0m\u001b[0mextend\u001b[0m\u001b[0;34m(\u001b[0m\u001b[0mjob\u001b[0m\u001b[0;34m.\u001b[0m\u001b[0mget\u001b[0m\u001b[0;34m(\u001b[0m\u001b[0mtimeout\u001b[0m\u001b[0;34m=\u001b[0m\u001b[0mself\u001b[0m\u001b[0;34m.\u001b[0m\u001b[0mtimeout\u001b[0m\u001b[0;34m)\u001b[0m\u001b[0;34m)\u001b[0m\u001b[0;34m\u001b[0m\u001b[0;34m\u001b[0m\u001b[0m\n\u001b[0m\u001b[1;32m    834\u001b[0m                 \u001b[0;32melse\u001b[0m\u001b[0;34m:\u001b[0m\u001b[0;34m\u001b[0m\u001b[0;34m\u001b[0m\u001b[0m\n\u001b[1;32m    835\u001b[0m                     \u001b[0mself\u001b[0m\u001b[0;34m.\u001b[0m\u001b[0m_output\u001b[0m\u001b[0;34m.\u001b[0m\u001b[0mextend\u001b[0m\u001b[0;34m(\u001b[0m\u001b[0mjob\u001b[0m\u001b[0;34m.\u001b[0m\u001b[0mget\u001b[0m\u001b[0;34m(\u001b[0m\u001b[0;34m)\u001b[0m\u001b[0;34m)\u001b[0m\u001b[0;34m\u001b[0m\u001b[0;34m\u001b[0m\u001b[0m\n",
      "\u001b[0;32m~/anaconda3/lib/python3.6/site-packages/sklearn/externals/joblib/_parallel_backends.py\u001b[0m in \u001b[0;36mwrap_future_result\u001b[0;34m(future, timeout)\u001b[0m\n\u001b[1;32m    519\u001b[0m         AsyncResults.get from multiprocessing.\"\"\"\n\u001b[1;32m    520\u001b[0m         \u001b[0;32mtry\u001b[0m\u001b[0;34m:\u001b[0m\u001b[0;34m\u001b[0m\u001b[0;34m\u001b[0m\u001b[0m\n\u001b[0;32m--> 521\u001b[0;31m             \u001b[0;32mreturn\u001b[0m \u001b[0mfuture\u001b[0m\u001b[0;34m.\u001b[0m\u001b[0mresult\u001b[0m\u001b[0;34m(\u001b[0m\u001b[0mtimeout\u001b[0m\u001b[0;34m=\u001b[0m\u001b[0mtimeout\u001b[0m\u001b[0;34m)\u001b[0m\u001b[0;34m\u001b[0m\u001b[0;34m\u001b[0m\u001b[0m\n\u001b[0m\u001b[1;32m    522\u001b[0m         \u001b[0;32mexcept\u001b[0m \u001b[0mLokyTimeoutError\u001b[0m\u001b[0;34m:\u001b[0m\u001b[0;34m\u001b[0m\u001b[0;34m\u001b[0m\u001b[0m\n\u001b[1;32m    523\u001b[0m             \u001b[0;32mraise\u001b[0m \u001b[0mTimeoutError\u001b[0m\u001b[0;34m(\u001b[0m\u001b[0;34m)\u001b[0m\u001b[0;34m\u001b[0m\u001b[0;34m\u001b[0m\u001b[0m\n",
      "\u001b[0;32m~/anaconda3/lib/python3.6/concurrent/futures/_base.py\u001b[0m in \u001b[0;36mresult\u001b[0;34m(self, timeout)\u001b[0m\n\u001b[1;32m    425\u001b[0m                 \u001b[0;32mreturn\u001b[0m \u001b[0mself\u001b[0m\u001b[0;34m.\u001b[0m\u001b[0m__get_result\u001b[0m\u001b[0;34m(\u001b[0m\u001b[0;34m)\u001b[0m\u001b[0;34m\u001b[0m\u001b[0;34m\u001b[0m\u001b[0m\n\u001b[1;32m    426\u001b[0m \u001b[0;34m\u001b[0m\u001b[0m\n\u001b[0;32m--> 427\u001b[0;31m             \u001b[0mself\u001b[0m\u001b[0;34m.\u001b[0m\u001b[0m_condition\u001b[0m\u001b[0;34m.\u001b[0m\u001b[0mwait\u001b[0m\u001b[0;34m(\u001b[0m\u001b[0mtimeout\u001b[0m\u001b[0;34m)\u001b[0m\u001b[0;34m\u001b[0m\u001b[0;34m\u001b[0m\u001b[0m\n\u001b[0m\u001b[1;32m    428\u001b[0m \u001b[0;34m\u001b[0m\u001b[0m\n\u001b[1;32m    429\u001b[0m             \u001b[0;32mif\u001b[0m \u001b[0mself\u001b[0m\u001b[0;34m.\u001b[0m\u001b[0m_state\u001b[0m \u001b[0;32min\u001b[0m \u001b[0;34m[\u001b[0m\u001b[0mCANCELLED\u001b[0m\u001b[0;34m,\u001b[0m \u001b[0mCANCELLED_AND_NOTIFIED\u001b[0m\u001b[0;34m]\u001b[0m\u001b[0;34m:\u001b[0m\u001b[0;34m\u001b[0m\u001b[0;34m\u001b[0m\u001b[0m\n",
      "\u001b[0;32m~/anaconda3/lib/python3.6/threading.py\u001b[0m in \u001b[0;36mwait\u001b[0;34m(self, timeout)\u001b[0m\n\u001b[1;32m    293\u001b[0m         \u001b[0;32mtry\u001b[0m\u001b[0;34m:\u001b[0m    \u001b[0;31m# restore state no matter what (e.g., KeyboardInterrupt)\u001b[0m\u001b[0;34m\u001b[0m\u001b[0;34m\u001b[0m\u001b[0m\n\u001b[1;32m    294\u001b[0m             \u001b[0;32mif\u001b[0m \u001b[0mtimeout\u001b[0m \u001b[0;32mis\u001b[0m \u001b[0;32mNone\u001b[0m\u001b[0;34m:\u001b[0m\u001b[0;34m\u001b[0m\u001b[0;34m\u001b[0m\u001b[0m\n\u001b[0;32m--> 295\u001b[0;31m                 \u001b[0mwaiter\u001b[0m\u001b[0;34m.\u001b[0m\u001b[0macquire\u001b[0m\u001b[0;34m(\u001b[0m\u001b[0;34m)\u001b[0m\u001b[0;34m\u001b[0m\u001b[0;34m\u001b[0m\u001b[0m\n\u001b[0m\u001b[1;32m    296\u001b[0m                 \u001b[0mgotit\u001b[0m \u001b[0;34m=\u001b[0m \u001b[0;32mTrue\u001b[0m\u001b[0;34m\u001b[0m\u001b[0;34m\u001b[0m\u001b[0m\n\u001b[1;32m    297\u001b[0m             \u001b[0;32melse\u001b[0m\u001b[0;34m:\u001b[0m\u001b[0;34m\u001b[0m\u001b[0;34m\u001b[0m\u001b[0m\n",
      "\u001b[0;31mKeyboardInterrupt\u001b[0m: "
     ]
    }
   ],
   "source": [
    "param_grid = {\n",
    "            'n_estimators': [200, 500],\n",
    "            'max_features': [2, 3],\n",
    "            'min_samples_leaf': [1, 2, 4],\n",
    "            'min_samples_split': [2, 5, 10]\n",
    "            }\n",
    "\n",
    "CV_rnd_cfl = GridSearchCV(estimator = rf_cfl, param_grid = param_grid, scoring = 'f1', verbose = 10, n_jobs = -1)\n",
    "CV_rnd_cfl.fit(x_train, y_train)\n",
    "\n",
    "best_parameters = CV_rf_cfl.best_params_\n",
    "print(\"The best parameters for using this model is\", best_parameters)"
   ]
  },
  {
   "cell_type": "markdown",
   "metadata": {},
   "source": [
    "Under- and Oversampling\n",
    "\n",
    "To increase the model quality we will test different methods to balance the classes. Firstly, an under-sampler that reduces the larger class until it reaches the size of the smaller class, and secondly, an oversampler that generates data for the smaller class so that it reaches the size of the larger class. \n",
    "\n",
    "We also use the SMOTEEN algorithm, which is a hybrid of both methods.\n",
    "\n",
    "As you can see, the model is mainly improved by oversampling. Here we already achieve a good accuracy with a simple model. Especially the recall values are good, which means that we have few false negatives, which we want to avoid."
   ]
  },
  {
   "cell_type": "code",
   "execution_count": 12,
   "metadata": {},
   "outputs": [
    {
     "data": {
      "image/png": "[encoded data removed]",
      "text/plain": [
       "<Figure size 432x288 with 1 Axes>"
      ]
     },
     "metadata": {
      "needs_background": "light"
     },
     "output_type": "display_data"
    }
   ],
   "source": [
    "from imblearn.under_sampling import RandomUnderSampler\n",
    "\n",
    "x = data.drop([\"Class\"], axis = 1)\n",
    "y = data[\"Class\"]\n",
    "\n",
    "x_train, x_test, y_train, y_test = train_test_split(x,y)\n",
    "\n",
    "rus = RandomUnderSampler(return_indices=True)\n",
    "x_train, y_train, id_rus = rus.fit_sample(x_train, y_train)\n",
    "\n",
    "sns.countplot(y_train, palette=my_pal)\n",
    "plt.show()"
   ]
  },
  {
   "cell_type": "code",
   "execution_count": 13,
   "metadata": {},
   "outputs": [
    {
     "name": "stdout",
     "output_type": "stream",
     "text": [
      "Model Score: 0.9686104322912278\n",
      "ROC_AUC_Score 0.9352507133814281\n",
      "              precision    recall  f1-score   support\n",
      "\n",
      "           0       1.00      0.97      0.98     71090\n",
      "           1       0.04      0.90      0.08       112\n",
      "\n",
      "   micro avg       0.97      0.97      0.97     71202\n",
      "   macro avg       0.52      0.94      0.53     71202\n",
      "weighted avg       1.00      0.97      0.98     71202\n",
      "\n"
     ]
    },
    {
     "data": {
      "image/png": "[encoded data removed]",
      "text/plain": [
       "<Figure size 432x288 with 2 Axes>"
      ]
     },
     "metadata": {
      "needs_background": "light"
     },
     "output_type": "display_data"
    }
   ],
   "source": [
    "model = RandomForestClassifier()\n",
    "model.fit(x_train, y_train)\n",
    "pred = model.predict(x_test)\n",
    "print('Model Score:', model.score(x_test, y_test))\n",
    "\n",
    "roc_auc = roc_auc_score(y_test, pred)\n",
    "print('ROC_AUC_Score',roc_auc)\n",
    "\n",
    "print(classification_report(y_test, pred))\n",
    "\n",
    "con = confusion_matrix(y_test, pred)\n",
    "sns.heatmap(con, annot=True)\n",
    "plt.show()"
   ]
  },
  {
   "cell_type": "code",
   "execution_count": 23,
   "metadata": {},
   "outputs": [
    {
     "data": {
      "image/png": "[encoded data removed]",
      "text/plain": [
       "<Figure size 432x288 with 1 Axes>"
      ]
     },
     "metadata": {
      "needs_background": "light"
     },
     "output_type": "display_data"
    }
   ],
   "source": [
    "from imblearn.over_sampling import RandomOverSampler\n",
    "\n",
    "x = data.drop([\"Class\"], axis = 1)\n",
    "y = data[\"Class\"]\n",
    "\n",
    "x_train, x_test, y_train, y_test = train_test_split(x,y)\n",
    "\n",
    "ros = RandomOverSampler()\n",
    "x_train, y_train = ros.fit_sample(x_train, y_train)\n",
    "\n",
    "sns.countplot(y_train, palette=my_pal)\n",
    "plt.show()"
   ]
  },
  {
   "cell_type": "code",
   "execution_count": 24,
   "metadata": {},
   "outputs": [
    {
     "name": "stdout",
     "output_type": "stream",
     "text": [
      "Model Score: 0.9994241734782731\n",
      "ROC_AUC_Score 0.8922162357565891\n",
      "              precision    recall  f1-score   support\n",
      "\n",
      "           0       1.00      1.00      1.00     71072\n",
      "           1       0.89      0.78      0.83       130\n",
      "\n",
      "   micro avg       1.00      1.00      1.00     71202\n",
      "   macro avg       0.94      0.89      0.92     71202\n",
      "weighted avg       1.00      1.00      1.00     71202\n",
      "\n"
     ]
    },
    {
     "data": {
      "image/png": "[encoded data removed]",
      "text/plain": [
       "<Figure size 432x288 with 2 Axes>"
      ]
     },
     "metadata": {
      "needs_background": "light"
     },
     "output_type": "display_data"
    }
   ],
   "source": [
    "model = RandomForestClassifier()\n",
    "model.fit(x_train, y_train)\n",
    "pred = model.predict(x_test)\n",
    "print('Model Score:', model.score(x_test, y_test))\n",
    "\n",
    "roc_auc = roc_auc_score(y_test, pred)\n",
    "print('ROC_AUC_Score',roc_auc)\n",
    "\n",
    "print(classification_report(y_test, pred))\n",
    "\n",
    "con = confusion_matrix(y_test, pred)\n",
    "sns.heatmap(con, annot=True)\n",
    "plt.show()"
   ]
  },
  {
   "cell_type": "code",
   "execution_count": 26,
   "metadata": {},
   "outputs": [
    {
     "name": "stdout",
     "output_type": "stream",
     "text": [
      "Model Score: 0.9993539507317211\n",
      "ROC_AUC_Score 0.8681326340195915\n",
      "              precision    recall  f1-score   support\n",
      "\n",
      "           0       1.00      1.00      1.00     71073\n",
      "           1       0.89      0.74      0.81       129\n",
      "\n",
      "   micro avg       1.00      1.00      1.00     71202\n",
      "   macro avg       0.94      0.87      0.90     71202\n",
      "weighted avg       1.00      1.00      1.00     71202\n",
      "\n"
     ]
    },
    {
     "data": {
      "image/png": "[encoded data removed]",
      "text/plain": [
       "<Figure size 432x288 with 2 Axes>"
      ]
     },
     "metadata": {
      "needs_background": "light"
     },
     "output_type": "display_data"
    }
   ],
   "source": [
    "x = data.drop([\"Class\"], axis = 1)\n",
    "y = data[\"Class\"]\n",
    "\n",
    "x_train, x_test, y_train, y_test = train_test_split(x,y)\n",
    "\n",
    "sm = SMOTE(random_state=0)\n",
    "x_train, y_train = sm.fit_sample(x_train, y_train)\n",
    "\n",
    "model = RandomForestClassifier()\n",
    "model.fit(x_train, y_train)\n",
    "pred = model.predict(x_test)\n",
    "print('Model Score:', model.score(x_test, y_test))\n",
    "\n",
    "roc_auc = roc_auc_score(y_test, pred)\n",
    "print('ROC_AUC_Score',roc_auc)\n",
    "\n",
    "print(classification_report(y_test, pred))\n",
    "\n",
    "con = confusion_matrix(y_test, pred)\n",
    "sns.heatmap(con, annot=True)\n",
    "plt.show()"
   ]
  },
  {
   "cell_type": "code",
   "execution_count": 27,
   "metadata": {},
   "outputs": [
    {
     "name": "stdout",
     "output_type": "stream",
     "text": [
      "Model Score: 0.9995505744220669\n",
      "ROC_AUC_Score 0.918711978977858\n",
      "              precision    recall  f1-score   support\n",
      "\n",
      "           0       1.00      1.00      1.00     71085\n",
      "           1       0.88      0.84      0.86       117\n",
      "\n",
      "   micro avg       1.00      1.00      1.00     71202\n",
      "   macro avg       0.94      0.92      0.93     71202\n",
      "weighted avg       1.00      1.00      1.00     71202\n",
      "\n"
     ]
    },
    {
     "data": {
      "image/png": "[encoded data removed]",
      "text/plain": [
       "<Figure size 432x288 with 2 Axes>"
      ]
     },
     "metadata": {
      "needs_background": "light"
     },
     "output_type": "display_data"
    }
   ],
   "source": [
    "from imblearn.combine import SMOTEENN\n",
    "\n",
    "x = data.drop([\"Class\"], axis = 1)\n",
    "y = data[\"Class\"]\n",
    "\n",
    "x_train, x_test, y_train, y_test = train_test_split(x,y)\n",
    "\n",
    "sm = SMOTEENN(random_state=0)\n",
    "x_train, y_train = sm.fit_sample(x_train, y_train)\n",
    "\n",
    "model = RandomForestClassifier()\n",
    "model.fit(x_train, y_train)\n",
    "pred = model.predict(x_test)\n",
    "print('Model Score:', model.score(x_test, y_test))\n",
    "\n",
    "roc_auc = roc_auc_score(y_test, pred)\n",
    "print('ROC_AUC_Score',roc_auc)\n",
    "\n",
    "print(classification_report(y_test, pred))\n",
    "\n",
    "con = confusion_matrix(y_test, pred)\n",
    "sns.heatmap(con, annot=True)\n",
    "plt.show()"
   ]
  },
  {
   "cell_type": "markdown",
   "metadata": {},
   "source": [
    "# Resampling\n",
    "\n",
    "in this we will resample our data with different size\n",
    "\n",
    "then we will try to use this resampled data to train our model\n",
    "\n",
    "then we will use this model to predict for our original data"
   ]
  },
  {
   "cell_type": "code",
   "execution_count": null,
   "metadata": {},
   "outputs": [],
   "source": [
    "# for undersampling we need a portion of majority class and will take whole data of minority class\n",
    "# count fraud transaction is the total number of fraud transaction\n",
    "# now lets us see the index of fraud cases\n",
    "fraud_indices = np.array(data[data.Class == 1].index)\n",
    "normal_indices = np.array(data[data.Class == 0].index)"
   ]
  },
  {
   "cell_type": "code",
   "execution_count": null,
   "metadata": {},
   "outputs": [],
   "source": [
    "# now let us a define a function for make undersample data with different proportion\n",
    "# different proportion means with different proportion of normal classes of data\n",
    "\n",
    "\n",
    "def generatePerformanceReport(clf,X_train,y_train,X_test,y_test,bool_):\n",
    "    if bool_==True:\n",
    "        clf.fit(X_train,y_train.values.ravel())\n",
    "    pred=clf.predict(X_test)\n",
    "    cnf_matrix=confusion_matrix(y_test,pred)\n",
    "    tn, fp, fn, tp=cnf_matrix.ravel()\n",
    "    print('---------------------------------')\n",
    "    print('Length of training data:',len(X_train))\n",
    "    print('Length of test data:', len(X_test))\n",
    "    print('---------------------------------')\n",
    "    print('True positives:',tp)\n",
    "    print('True negatives:',tn)\n",
    "    print('False positives:',fp)\n",
    "    print('False negatives:',fn)\n",
    "    #sns.heatmap(cnf_matrix,cmap=\"coolwarm_r\",annot=True,linewidths=0.5)\n",
    "    print('----------------------Classification report--------------------------')\n",
    "    print(classification_report(y_test,pred))\n",
    "    "
   ]
  },
  {
   "cell_type": "code",
   "execution_count": null,
   "metadata": {},
   "outputs": [],
   "source": [
    "# generate 50%, 66%, 75% proportions of normal indices to be combined with fraud indices\n",
    "# undersampled data\n",
    "normal_indices = data[data['Class'] == 0].index\n",
    "fraud_indices = data[data['Class'] == 1].index\n",
    "for i in range(1, 4):\n",
    "    normal_sampled_data = np.array(np.random.choice(\n",
    "        normal_indices, i*len(fraud_indices), replace=False))\n",
    "    undersampled_data = np.concatenate([fraud_indices, normal_sampled_data])\n",
    "    undersampled_data = data.iloc[undersampled_data]\n",
    "    print('length of undersampled data ', len(undersampled_data))\n",
    "    print('% of fraud transactions in undersampled data ', len(\n",
    "        undersampled_data.loc[undersampled_data['Class'] == 1])/len(undersampled_data))\n",
    "    # get feature and label data\n",
    "    feature_data = undersampled_data.loc[:,\n",
    "                                         undersampled_data.columns != 'Class']\n",
    "    label_data = undersampled_data.loc[:, undersampled_data.columns == 'Class']\n",
    "    X_train, X_test, y_train, y_test = train_test_split(\n",
    "        feature_data, label_data, test_size=0.30)\n",
    "    for j in [LogisticRegression(), SVC(), RandomForestClassifier(n_estimators=100)]:\n",
    "        clf = j\n",
    "        print(j)\n",
    "        generatePerformanceReport(clf, X_train, y_train, X_test, y_test, True)\n",
    "        # the above code classifies X_test which is part of undersampled data\n",
    "        # now, let us consider the remaining rows of dataset and use that as test set\n",
    "        remaining_indices = [\n",
    "            i for i in data.index if i not in undersampled_data.index]\n",
    "        testdf = data.iloc[remaining_indices]\n",
    "        testdf_label = data.loc[:, testdf.columns == 'Class']\n",
    "        testdf_feature = data.loc[:, testdf.columns != 'Class']\n",
    "        generatePerformanceReport(\n",
    "            clf, X_train, y_train, testdf_feature, testdf_label, False)"
   ]
  },
  {
   "cell_type": "code",
   "execution_count": null,
   "metadata": {},
   "outputs": [],
   "source": [
    "#oversampled_data data\n",
    "normal_sampled_indices=data.loc[data['Class']==0].index\n",
    "oversampled_data=data.iloc[normal_sampled_indices]\n",
    "fraud_data=data.loc[data['Class']==1]\n",
    "oversampled_data=oversampled_data.append([fraud_data]*300, ignore_index=True)\n",
    "print('length of oversampled_data data ', len(oversampled_data))\n",
    "print('% of fraud transactions in oversampled_data data ',len(oversampled_data.loc[oversampled_data['Class']==1])/len(oversampled_data))\n",
    "#get feature and label data\n",
    "feature_data=oversampled_data.loc[:,oversampled_data.columns!='Class']\n",
    "label_data=oversampled_data.loc[:,oversampled_data.columns=='Class']\n",
    "X_train, X_test, y_train, y_test=train_test_split(feature_data,label_data,test_size=0.30)\n",
    "for j in [LogisticRegression(),RandomForestClassifier(n_estimators=100)]:\n",
    "    clf=j\n",
    "    print(j)\n",
    "    generatePerformanceReport(clf,X_train,y_train,X_test,y_test,True)\n",
    "    #the above code classifies X_test which is part of undersampled data\n",
    "    #now, let us consider the remaining rows of dataset and use that as test set\n",
    "    remaining_indices=[i for i in data.index  if i not in oversampled_data.index]\n",
    "    testdf=data.iloc[remaining_indices]\n",
    "    testdf_label=data.loc[:,testdf.columns=='Class']\n",
    "    testdf_feature=data.loc[:,testdf.columns!='Class']\n",
    "    generatePerformanceReport(clf,X_train,y_train,testdf_feature,testdf_label,False)"
   ]
  },
  {
   "cell_type": "markdown",
   "metadata": {
    "_uuid": "4761026ec5199b7e8529624ecdab5b3ef51275fd"
   },
   "source": [
    "# <a id='5'>5. Logistic Regression (LOG)</a>"
   ]
  },
  {
   "cell_type": "markdown",
   "metadata": {
    "_uuid": "dfe7d127b17dc513adef0fab1c4a37786ab1e8f7"
   },
   "source": [
    "##  <a id='5.1'>5.1. LOG - Without hyperparameters tuning</a>"
   ]
  },
  {
   "cell_type": "code",
   "execution_count": null,
   "metadata": {
    "_uuid": "0f17f836e73f80b35435e365c53ad8ea98ddc3a6"
   },
   "outputs": [],
   "source": [
    "normal_indices=data[data['Class']==0].index\n",
    "fraud_indices=data[data['Class']==1].index\n",
    "for i in range(1,4):\n",
    "    normal_sampled_data=np.array(np.random.choice(normal_indices, i*len(fraud_indices),replace=False))\n",
    "    undersampled_data=np.concatenate([fraud_indices, normal_sampled_data])\n",
    "    undersampled_data=data.iloc[undersampled_data]\n",
    "    print('length of undersampled data ', len(undersampled_data))\n",
    "    print('% of fraud transactions in undersampled data ',len(undersampled_data.loc[undersampled_data['Class']==1])/len(undersampled_data))\n",
    "    #get feature and label data\n",
    "    feature_data=undersampled_data.loc[:,undersampled_data.columns!='Class']\n",
    "    label_data=undersampled_data.loc[:,undersampled_data.columns=='Class']\n",
    "    X_train, X_test, y_train, y_test=train_test_split(feature_data,label_data,test_size=0.30)\n",
    "    for j in [LogisticRegression(),SVC(),RandomForestClassifier(n_estimators=100)]:\n",
    "        clf=j\n",
    "        print(j)\n",
    "        generatePerformanceReport(clf,X_train,y_train,X_test,y_test,True)\n",
    "        #the above code classifies X_test which is part of undersampled data\n",
    "        #now, let us consider the remaining rows of dataset and use that as test set\n",
    "        remaining_indices=[i for i in creditcard_data.index  if i not in undersampled_data.index]\n",
    "        testdf=creditcard_data.iloc[remaining_indices]\n",
    "        testdf_label=creditcard_data.loc[:,testdf.columns=='Class']\n",
    "        testdf_feature=creditcard_data.loc[:,testdf.columns!='Class']\n",
    "        generatePerformanceReport(clf,X_train,y_train,testdf_feature,testdf_label,False)"
   ]
  },
  {
   "cell_type": "code",
   "execution_count": null,
   "metadata": {
    "_uuid": "7e997a99ca8ab2d2c41b67b31f240a5e1989ffda"
   },
   "outputs": [],
   "source": [
    "# Show parameters currently use\n",
    "from pprint import pprint\n",
    "print('Parameters currently in use:\\n')\n",
    "pprint(log_cfl.get_params())"
   ]
  },
  {
   "cell_type": "markdown",
   "metadata": {
    "_uuid": "eabcc226c9b308f293be75919cc125dd1b3d7c6e"
   },
   "source": [
    "##  <a id='5.2'>5.2. LOG - Grid Search CV to optimise Recall</a>"
   ]
  },
  {
   "cell_type": "code",
   "execution_count": null,
   "metadata": {
    "_uuid": "297ce3e8baf053c974e94711d05e8102df88f9f2"
   },
   "outputs": [],
   "source": [
    "# Find the best parameters : recall optimisation\n",
    "from sklearn.model_selection import GridSearchCV\n",
    "param_grid = {\n",
    "            'penalty' : ['l1','l2'], \n",
    "            'class_weight' : ['balanced', None], \n",
    "            'C' : [0.1, 1, 10, 100]\n",
    "            }\n",
    "\n",
    "CV_log_cfl = GridSearchCV(estimator = log_cfl, param_grid = param_grid , scoring = 'recall', verbose = 1, n_jobs = -1)\n",
    "CV_log_cfl.fit(X_train, y_train)\n",
    "\n",
    "best_parameters = CV_log_cfl.best_params_\n",
    "print('The best parameters for using this model is', best_parameters)"
   ]
  },
  {
   "cell_type": "markdown",
   "metadata": {
    "_uuid": "2f4410b36643b6f768ae4883bdf3c01fb7012d9e"
   },
   "source": [
    "## <a id='5.3'>5.3. LOG - With best hyperparameters</a>"
   ]
  },
  {
   "cell_type": "code",
   "execution_count": null,
   "metadata": {
    "_uuid": "ff01313ffeb5eb56d581dc1c97f75de001217252"
   },
   "outputs": [],
   "source": [
    "#Logistic regression with the best parameters\n",
    "log_cfl = LogisticRegression(C = best_parameters['C'], \n",
    "                             penalty = best_parameters['penalty'], \n",
    "                             class_weight = best_parameters['class_weight'])\n",
    "\n",
    "log_cfl.fit(X_train, y_train)\n",
    "y_pred = log_cfl.predict(X_test)\n",
    "y_score = log_cfl.decision_function(X_test)\n",
    "\n",
    "# Confusion maxtrix & metrics\n",
    "cm = confusion_matrix(y_test, y_pred)\n",
    "class_names = [0,1]\n",
    "plt.figure()\n",
    "plot_confusion_matrix(cm, \n",
    "                      classes=class_names, \n",
    "                      title='LOG Confusion matrix')\n",
    "\n",
    "plt.savefig('4.log_cfl_confusion_matrix.png')\n",
    "plt.show()\n",
    "\n",
    "show_metrics()\n",
    "\n",
    "# ROC curve\n",
    "fpr, tpr, t = roc_curve(y_test, y_score)\n",
    "plot_roc()\n",
    "\n",
    "# Precision-recall curve\n",
    "precision, recall, thresholds = precision_recall_curve(y_test, y_score)\n",
    "plot_precision_recall()\n",
    "\n",
    "fpr_log, tpr_log, t_log = fpr, tpr, t\n",
    "precision_log, recall_log, thresholds_log = precision, recall, thresholds"
   ]
  },
  {
   "cell_type": "markdown",
   "metadata": {
    "_uuid": "49455fc2158c82e3121ef26097d4ccb1788df5e8"
   },
   "source": [
    "# <a id='6'>6. Extreme Gradient Boosting (XGB)</a>"
   ]
  },
  {
   "cell_type": "markdown",
   "metadata": {
    "_uuid": "1155ad12b36a8c1cbc3c1b8908fcbad761f4602e"
   },
   "source": [
    "## <a id='6.1'>6.1. XGB - Without hyperparameters tuning</a>"
   ]
  },
  {
   "cell_type": "code",
   "execution_count": null,
   "metadata": {
    "_uuid": "325ccdba19bafef44944baeb7fa62c112a19e6e9"
   },
   "outputs": [],
   "source": [
    "# xgb\n",
    "xgb_cfl = xgb.XGBClassifier(n_jobs = -1)\n",
    "\n",
    "xgb_cfl.fit(X_train, y_train)\n",
    "y_pred = xgb_cfl.predict(X_test)\n",
    "y_score = xgb_cfl.predict_proba(X_test)[:,1]\n",
    "\n",
    "# Confusion maxtrix & metrics\n",
    "cm = confusion_matrix(y_test, y_pred)\n",
    "class_names = [0,1]\n",
    "plt.figure()\n",
    "plot_confusion_matrix(cm, \n",
    "                      classes=class_names, \n",
    "                      title='XGB Confusion matrix')\n",
    "plt.show()\n",
    "\n",
    "show_metrics()\n",
    "\n",
    "# ROC curve\n",
    "fpr, tpr, t = roc_curve(y_test, y_score)\n",
    "plot_roc()\n",
    "\n",
    "# Precision-recall curve\n",
    "precision, recall, thresholds = precision_recall_curve(y_test, y_score)\n",
    "plot_precision_recall()"
   ]
  },
  {
   "cell_type": "markdown",
   "metadata": {
    "_uuid": "fdda857ffebecd1bf52deab00b1be3faab2d3ade"
   },
   "source": [
    "## <a id='6.2'>6.2. XGB - Grid Search CV to find best n_estimators (F1_score)</a>"
   ]
  },
  {
   "cell_type": "markdown",
   "metadata": {
    "_uuid": "58d0674b4c794882163fef16dd0a57b7315124d1"
   },
   "source": [
    "Grid search CV is really slow, you can add or remove some hyperparameters (or use early_stop) : "
   ]
  },
  {
   "cell_type": "markdown",
   "metadata": {
    "_uuid": "356bff66b0933fa5a20d12cfc5906f63908dfaab"
   },
   "source": [
    "    param_grid = {\n",
    "                'n_estimators': [100, 200, 300, 400]\n",
    "                  }\n",
    "\n",
    "    CV_xgb_cfl = GridSearchCV(estimator = xgb_cfl, param_grid = param_grid, scoring ='f1', verbose = 2)\n",
    "    CV_xgb_cfl.fit(X_train, y_train)\n",
    "\n",
    "    best_parameters = CV_xgb_cfl.best_params_\n",
    "    print(\"The best parameters for using this model is\", best_parameters)"
   ]
  },
  {
   "cell_type": "markdown",
   "metadata": {
    "_uuid": "9fbfab7f693d2ec4c55eade8d3ab0f62848938b4"
   },
   "source": [
    "![](https://image.noelshack.com/fichiers/2018/20/6/1526746266-ok.png)"
   ]
  },
  {
   "cell_type": "markdown",
   "metadata": {
    "_uuid": "dc1bfd8213f0d74fc92ade89bc05a5a648b5a22c"
   },
   "source": [
    "## <a id='6.3'>6.3. XGB - With best hyperparameters</a>"
   ]
  },
  {
   "cell_type": "code",
   "execution_count": null,
   "metadata": {
    "_uuid": "39aa5341e33496f4a745c51c758dc65436f8bc96"
   },
   "outputs": [],
   "source": [
    "# xgb\n",
    "xgb_cfl = xgb.XGBClassifier(n_jobs = -1, \n",
    "                            n_estimators = 200)\n",
    "\n",
    "xgb_cfl.fit(X_train, y_train)\n",
    "y_pred = xgb_cfl.predict(X_test)\n",
    "y_score = xgb_cfl.predict_proba(X_test)[:,1]\n",
    "\n",
    "# Confusion maxtrix & metrics\n",
    "cm = confusion_matrix(y_test, y_pred)\n",
    "class_names = [0,1]\n",
    "plt.figure()\n",
    "plot_confusion_matrix(cm, \n",
    "                      classes = class_names, \n",
    "                      title = 'XGB Confusion matrix')\n",
    "plt.savefig('2.xgb_cfl_confusion_matrix.png')\n",
    "plt.show()\n",
    "\n",
    "show_metrics()\n",
    "\n",
    "# ROC curve\n",
    "fpr, tpr, t = roc_curve(y_test, y_score)\n",
    "plot_roc()\n",
    "\n",
    "# Precision-recall curve\n",
    "precision, recall, thresholds = precision_recall_curve(y_test, y_score)\n",
    "plot_precision_recall()\n",
    "\n",
    "fpr_xgb, tpr_xgb, t_xgb = fpr, tpr, t\n",
    "precision_xgb, recall_xgb, thresholds_xgb = precision, recall, thresholds"
   ]
  },
  {
   "cell_type": "code",
   "execution_count": null,
   "metadata": {
    "_uuid": "09368c4ed1a5d81083bf60bbe63b1d958da5bb08"
   },
   "outputs": [],
   "source": [
    "plot_feature_importance(xgb_cfl)"
   ]
  },
  {
   "cell_type": "markdown",
   "metadata": {
    "_uuid": "5851c5eaacc4b35dc66cc4d7bec6298952493fe2"
   },
   "source": [
    "# <a id='7'>7. Random Forest (RF)</a>"
   ]
  },
  {
   "cell_type": "markdown",
   "metadata": {
    "_uuid": "cb959377637fa887181514a3f726b4a868e35f2f"
   },
   "source": [
    "## <a id='7.1'>7.1. RF - Without hyperparameters tuning</a>"
   ]
  },
  {
   "cell_type": "code",
   "execution_count": null,
   "metadata": {
    "_uuid": "19ede68dae121aabe4221b870eb1649c3b29512c"
   },
   "outputs": [],
   "source": [
    "# Ramdom forest Classifier\n",
    "rf_cfl = RandomForestClassifier(n_jobs = -1,\n",
    "                                random_state = 42)\n",
    "\n",
    "rf_cfl.fit(X_train, y_train)\n",
    "y_pred = rf_cfl.predict(X_test)\n",
    "y_score = rf_cfl.predict_proba(X_test)[:,1]\n",
    "\n",
    "# Confusion maxtrix\n",
    "cm = confusion_matrix(y_test, y_pred)\n",
    "class_names = [0,1]\n",
    "plt.figure()\n",
    "plot_confusion_matrix(cm, \n",
    "                      classes = class_names, \n",
    "                      title = 'RF Confusion matrix')\n",
    "plt.show()\n",
    "\n",
    "show_metrics()\n",
    "\n",
    "# ROC curve\n",
    "fpr, tpr, t = roc_curve(y_test, y_score)\n",
    "plot_roc()\n",
    "\n",
    "# Precision-recall curve\n",
    "precision, recall, thresholds = precision_recall_curve(y_test, y_score)\n",
    "plot_precision_recall()"
   ]
  },
  {
   "cell_type": "markdown",
   "metadata": {
    "_uuid": "8908b5e0b4fe63aef8fca90a8469b6554f02f2d2"
   },
   "source": [
    "## <a id='7.2'>7.2. RF - Grid Search CV to optimise F1_score</a>"
   ]
  },
  {
   "cell_type": "markdown",
   "metadata": {
    "_uuid": "15ed1b9f6031fabcf117dc1139d2c7dba9cec049"
   },
   "source": [
    "Grid search CV is really slow, you can add or remove some parameters  : "
   ]
  },
  {
   "cell_type": "markdown",
   "metadata": {
    "_uuid": "e36508cc45df1dd1f57d18bc696713c2cf288f60"
   },
   "source": [
    "    from sklearn.model_selection import GridSearchCV\n",
    "\n",
    "    param_grid = {\n",
    "                'n_estimators': [100, 200, 500],\n",
    "                'max_features': [2, 3],\n",
    "                'min_samples_leaf': [1, 2, 4],\n",
    "                'min_samples_split': [2, 5, 10]\n",
    "                }\n",
    "\n",
    "    CV_rnd_cfl = GridSearchCV(estimator = rf_cfl, param_grid = param_grid, scoring = 'f1', verbose = 10, n_jobs = -1)\n",
    "    CV_rnd_cfl.fit(X_train, y_train)\n",
    "\n",
    "    best_parameters = CV_rf_cfl.best_params_\n",
    "    print(\"The best parameters for using this model is\", best_parameters)"
   ]
  },
  {
   "cell_type": "markdown",
   "metadata": {
    "_uuid": "7d9a4cb60d4227642ee0cf17abda56988e0caef4"
   },
   "source": [
    "![](https://image.noelshack.com/fichiers/2018/20/5/1526651240-gridcv-rnd.png)"
   ]
  },
  {
   "cell_type": "markdown",
   "metadata": {
    "_uuid": "cb8a4665e868268c9e1c810f3d82978f7c16ef15"
   },
   "source": [
    "## <a id='7.3'>7.3. RF - With best hyperparameters</a>"
   ]
  },
  {
   "cell_type": "code",
   "execution_count": null,
   "metadata": {
    "_uuid": "ca44bd7231547c62b090357bcebed61563d243ae"
   },
   "outputs": [],
   "source": [
    "# Ramdom forest Classifier\n",
    "rf_cfl = RandomForestClassifier(n_estimators = 200, \n",
    "                                 max_features = 3, \n",
    "                                 min_samples_leaf = 1, \n",
    "                                 min_samples_split = 2, \n",
    "                                 n_jobs = -1,\n",
    "                                random_state = 42)\n",
    "\n",
    "rf_cfl.fit(X_train, y_train)\n",
    "y_pred = rf_cfl.predict(X_test)\n",
    "y_score = rf_cfl.predict_proba(X_test)[:,1]\n",
    "\n",
    "# Confusion maxtrix\n",
    "cm = confusion_matrix(y_test, y_pred)\n",
    "class_names = [0,1]\n",
    "plt.figure()\n",
    "plot_confusion_matrix(cm, \n",
    "                      classes = class_names, \n",
    "                      title = 'RF Confusion matrix')\n",
    "plt.savefig('3.rf_cfl_confusion_matrix.png')\n",
    "plt.show()\n",
    "\n",
    "show_metrics()\n",
    "\n",
    "# ROC curve\n",
    "fpr, tpr, t = roc_curve(y_test, y_score)\n",
    "plot_roc()\n",
    "\n",
    "# Precision-recall curve\n",
    "precision, recall, thresholds = precision_recall_curve(y_test, y_score)\n",
    "plot_precision_recall()\n",
    "\n",
    "fpr_rf, tpr_rf, t_rf = fpr, tpr, t\n",
    "precision_rf, recall_rf, thresholds_rf = precision, recall, thresholds"
   ]
  },
  {
   "cell_type": "code",
   "execution_count": null,
   "metadata": {
    "_uuid": "3ca9bd09abc22c91c2843b7986634f24bee9cf39"
   },
   "outputs": [],
   "source": [
    "plot_feature_importance(rf_cfl)"
   ]
  },
  {
   "cell_type": "code",
   "execution_count": null,
   "metadata": {
    "_uuid": "71d5297594aac9268abd7d33182e5925456ed9f1"
   },
   "outputs": [],
   "source": []
  },
  {
   "cell_type": "code",
   "execution_count": null,
   "metadata": {
    "_uuid": "3c428e947fc3f7979ebebc82278768186f15ec7f"
   },
   "outputs": [],
   "source": [
    "# def X and Y\n",
    "y = np.array(data.Class.tolist())\n",
    "data = data.drop('Class', 1)\n",
    "X = np.array(data.as_matrix())"
   ]
  },
  {
   "cell_type": "markdown",
   "metadata": {
    "_uuid": "e73cc02451a3b357f11a757de53feef4a521bcbe"
   },
   "source": [
    "# <a id='8'>8. VotingClassifier = LOG - XGB - RND (F1 = 0.881)</a>"
   ]
  },
  {
   "cell_type": "markdown",
   "metadata": {
    "_uuid": "dc0828aaa26b8f8f18885606e6fb98806df7f3ca"
   },
   "source": [
    "## <a href='#paeed'>8.1. VotingClassifier</a>"
   ]
  },
  {
   "cell_type": "code",
   "execution_count": null,
   "metadata": {
    "_uuid": "592863916cc183459275216fc9dd2d2602ba4ee0"
   },
   "outputs": [],
   "source": [
    "#Voting Classifier\n",
    "voting_cfl = VotingClassifier (\n",
    "        estimators = [('xgb', xgb_cfl), ('lt', log_cfl), ('rf', rf_cfl)],\n",
    "                     voting='soft', weights = [1, 1, 1.33])\n",
    "    \n",
    "voting_cfl.fit(X_train,y_train)\n",
    "\n",
    "y_pred = voting_cfl.predict(X_test)\n",
    "y_score = voting_cfl.predict_proba(X_test)[:,1]\n",
    "\n",
    "# Confusion maxtrix\n",
    "cm = confusion_matrix(y_test, y_pred)\n",
    "class_names = [0,1]\n",
    "plt.figure()\n",
    "plot_confusion_matrix(cm, \n",
    "                      classes = class_names, \n",
    "                      title = 'VOTING Confusion matrix')\n",
    "plt.savefig('1.voting_confusion_matrix.png')\n",
    "plt.show()\n",
    "\n",
    "show_metrics()\n",
    "\n",
    "# ROC curve\n",
    "fpr, tpr, t = roc_curve(y_test, y_score)\n",
    "plot_roc()\n",
    "\n",
    "# Precision-recall curve\n",
    "precision, recall, thresholds = precision_recall_curve(y_test, y_score)\n",
    "plot_precision_recall()\n",
    "\n",
    "fpr_voting, tpr_voting, t_voting = fpr, tpr, t\n",
    "precision_voting, recall_voting, thresholds_voting = precision, recall, thresholds"
   ]
  },
  {
   "cell_type": "markdown",
   "metadata": {
    "_uuid": "58735051836d61b7ca49e96886dde2d2fc54a5e1"
   },
   "source": [
    "## <a id='8.2'>8.2. Precision - Recall – Threshold Curve</a>"
   ]
  },
  {
   "cell_type": "code",
   "execution_count": null,
   "metadata": {
    "_uuid": "5c60983465459ed156b83889557c5f6bc3721993"
   },
   "outputs": [],
   "source": [
    "pr = 0.937\n",
    "rec = 0.831\n",
    "t = 0.5"
   ]
  },
  {
   "cell_type": "code",
   "execution_count": null,
   "metadata": {
    "_uuid": "766215f7e8c0638bf1601c345ce9593dc7e9ea35"
   },
   "outputs": [],
   "source": [
    "# Precision-recall-threshold curve : \n",
    "def plot_precision_recall_vs_threshold(precisions, recalls, thresholds):\n",
    "    plt.figure(figsize=(16, 12))\n",
    "    plt.title('Precision and Recall Scores (decision threshold)')\n",
    "    plt.plot(thresholds, precisions[:-1], 'b-',linewidth=2, label='Precision')\n",
    "    plt.plot(thresholds, recalls[:-1], 'g', linewidth=2, label='Recall')\n",
    "    plt.axvline(t, color='k', linestyle='--', label='Threshold')\n",
    "    plt.axhline(pr, color='blue', linewidth=2, linestyle='--')\n",
    "    plt.axhline(rec, color='green', linewidth=2, linestyle='--')\n",
    "    plt.ylabel('Score')\n",
    "    plt.xlabel('Decision Threshold')\n",
    "    plt.legend(loc='best')\n",
    "    plt.savefig('5.prec_recc_threshold.png')\n",
    "    plt.show();"
   ]
  },
  {
   "cell_type": "code",
   "execution_count": null,
   "metadata": {
    "_uuid": "0790957b8f64f6044e340a2a782fc9687146ede5"
   },
   "outputs": [],
   "source": [
    "plot_precision_recall_vs_threshold(precision, recall, thresholds)\n"
   ]
  },
  {
   "cell_type": "markdown",
   "metadata": {
    "_uuid": "fa6058ec3af1adbb550e5241f4258d7fbba1f46f"
   },
   "source": [
    "\n",
    "cf. part 9.3 : select the best threshold"
   ]
  },
  {
   "cell_type": "markdown",
   "metadata": {
    "_uuid": "d19e9ee6f87ae1c6667f8e0f071d43efb4a1b9b8"
   },
   "source": [
    "## <a id='8.3'>8.3. Compare ROC Curves (all models)</a>"
   ]
  },
  {
   "cell_type": "code",
   "execution_count": null,
   "metadata": {
    "_uuid": "7e78f54b48deff8606f50b45a3ff03eb65fc02a2"
   },
   "outputs": [],
   "source": [
    "def roc_curve_all_models () : \n",
    "    plt.figure(figsize=(16, 12))\n",
    "    plt.plot(fpr_rf, tpr_rf, label = 'ROC curve', linewidth = 2)\n",
    "    plt.plot(fpr_xgb, tpr_xgb, label = 'ROC curve', linewidth = 2)\n",
    "    plt.plot(fpr_log, tpr_log, label = 'ROC curve', linewidth = 2)\n",
    "    plt.plot(fpr_voting, tpr_voting, label = 'ROC curve', linewidth = 2)\n",
    "    plt.plot([0,1],[0,1], 'k--', linewidth = 2)\n",
    "    plt.xlim([0.0,0.001])\n",
    "    plt.ylim([0.0,1.05])\n",
    "    plt.xlabel('False Positive Rate')\n",
    "    plt.ylabel('True Positive Rate')\n",
    "    plt.title('ROC')\n",
    "    plt.legend(['Rnd','Xgb', 'Log', 'Voting'], loc='upper left')\n",
    "    plt.savefig('6.roc.png')\n",
    "    plt.show();"
   ]
  },
  {
   "cell_type": "code",
   "execution_count": null,
   "metadata": {
    "_uuid": "e9aa74138091c53f9cda2661ba9923833272cb7a"
   },
   "outputs": [],
   "source": [
    "roc_curve_all_models ()"
   ]
  },
  {
   "cell_type": "markdown",
   "metadata": {
    "_uuid": "b611f0a5141057b266bdadec13beda3064c05051"
   },
   "source": [
    "## <a id='8.4'>8.4. Compare Precision - Recall Curves (all models)</a>"
   ]
  },
  {
   "cell_type": "code",
   "execution_count": null,
   "metadata": {
    "_uuid": "df4f6787b0a83665215af37fe5cb8f0077b269d1"
   },
   "outputs": [],
   "source": [
    "def prec_recall_all_models () :\n",
    "    plt.figure(figsize=(16, 12))\n",
    "    plt.plot(recall_rf, precision_rf, linewidth = 2)\n",
    "    plt.plot(recall_xgb, precision_xgb, linewidth = 2)\n",
    "    plt.plot(recall_log, precision_log, linewidth = 2)\n",
    "    plt.plot(recall_voting, precision_voting, linewidth = 2)\n",
    "    plt.scatter(rec, pr, linewidth = 2, color = 'red')\n",
    "    plt.axvline(rec, color = 'red', linewidth = 1, linestyle='--')\n",
    "    plt.axhline(pr, color = 'red', linewidth = 1, linestyle='--')\n",
    "    plt.xlim([0.0,1])\n",
    "    plt.ylim([0.0,1.05])\n",
    "    plt.xlabel('Recall')\n",
    "    plt.ylabel('Precision')\n",
    "    plt.title('Precision Recall Curve - PR = 0.937 - REC = 0.831 - F1 = 881 ')\n",
    "    plt.legend(['Rnd', 'Xgb', 'Log', 'Voting'], loc='upper right')\n",
    "    plt.savefig('7.prec_recc.png')\n",
    "    plt.show();"
   ]
  },
  {
   "cell_type": "code",
   "execution_count": null,
   "metadata": {
    "_uuid": "6ad72f433cf39dedc1dea934b76bca440cc40293"
   },
   "outputs": [],
   "source": [
    "prec_recall_all_models () "
   ]
  },
  {
   "cell_type": "markdown",
   "metadata": {
    "_uuid": "dbe45315be1b7ebcf75daf630b484f1bdf5ee7db"
   },
   "source": [
    "# <a id='9'>9. VotingClassifier : Validation (F1 = 0.884)</a>"
   ]
  },
  {
   "cell_type": "markdown",
   "metadata": {
    "_uuid": "07d627acb133e7189fde3e959c2f7f5689f244a4"
   },
   "source": [
    "dataset = valid_data "
   ]
  },
  {
   "cell_type": "markdown",
   "metadata": {
    "_uuid": "e02c3731acd91eb0c793f50219d4a1258adc4b3a"
   },
   "source": [
    "## <a id='9.1'>9.1. Normalize Amount, drop useless variables and define (X, y)</a>    "
   ]
  },
  {
   "cell_type": "code",
   "execution_count": null,
   "metadata": {
    "_uuid": "efd93ce8514369c1b1e7fb52038ac50ff67b9c73"
   },
   "outputs": [],
   "source": [
    "# Normalize amount in valid_data 'normAmount' \n",
    "from sklearn.preprocessing import StandardScaler\n",
    "valid_data['normAmount'] = StandardScaler().fit_transform(valid_data['Amount'].values.reshape(-1,1))"
   ]
  },
  {
   "cell_type": "code",
   "execution_count": null,
   "metadata": {
    "_uuid": "38e1bdfed572f6a93d41de8d58b8505a6ebb0a81"
   },
   "outputs": [],
   "source": [
    "# Drop time and amount in valid_data\n",
    "valid_data = valid_data.drop(['Amount','Time'],axis=1)"
   ]
  },
  {
   "cell_type": "code",
   "execution_count": null,
   "metadata": {
    "_uuid": "36513309a9bd437c14d135cdded594f5b64d8862"
   },
   "outputs": [],
   "source": [
    "# Define X & y\n",
    "y = np.array(valid_data.Class.tolist())\n",
    "valid_data = valid_data.drop('Class', 1)\n",
    "X = np.array(valid_data.as_matrix())"
   ]
  },
  {
   "cell_type": "markdown",
   "metadata": {
    "_uuid": "2cc73042d5fac6c994f5e966570b6938be2e037e"
   },
   "source": [
    "## <a href='#5-15-1'>9.2. VotingClassifier on valid_data (trained & tested in 8.1.)</a>"
   ]
  },
  {
   "cell_type": "code",
   "execution_count": null,
   "metadata": {
    "_uuid": "13d0d4e7e1b95b86f4d9e54d82bb6cdaea7b6b0d"
   },
   "outputs": [],
   "source": [
    "# Apply voting_classifier, previously trained, on valid_data : \n",
    "y_pred = voting_cfl.predict(X)\n",
    "y_score = voting_cfl.predict_proba(X)[:,1]"
   ]
  },
  {
   "cell_type": "code",
   "execution_count": null,
   "metadata": {
    "_uuid": "aa5d94b5d02f6b8582cf8d1c83ac1bf424e84d47"
   },
   "outputs": [],
   "source": [
    "# Metrics valid_data\n",
    "# Confusion Matrix \n",
    "cm = confusion_matrix(y, y_pred)\n",
    "class_names = [0,1]\n",
    "plt.figure()\n",
    "plot_confusion_matrix(cm, \n",
    "                      classes = class_names, \n",
    "                      title = 'VOTING valid Confusion matrix')\n",
    "plt.savefig('8.votingvf_cfl_confusion_matrix.png')\n",
    "plt.show()\n",
    "\n",
    "show_metrics()\n",
    "\n",
    "#ROC\n",
    "fpr, tpr, t = roc_curve(y, y_score)\n",
    "plot_roc()\n",
    "\n",
    "#precision recall\n",
    "precision, recall, thresholds = precision_recall_curve(y, y_score)\n",
    "plot_precision_recall()"
   ]
  },
  {
   "cell_type": "markdown",
   "metadata": {
    "_uuid": "cdcad968e304fb23b0b88c5a3113afaead1519a3"
   },
   "source": [
    "## <a href='#5-15-2'>9.3. Threshold selection</a>"
   ]
  },
  {
   "cell_type": "markdown",
   "metadata": {
    "_uuid": "8bcda32b8a7a1d36582e1f4a3a2d79e6eb2c37d1"
   },
   "source": [
    "![](https://image.noelshack.com/fichiers/2018/21/1/1526914109-ok-thresh.png)\n",
    "source : http://www.prolekare.cz/en/journal-of-czech-physicians-article/roc-analysis-and-the-use-of-cost-benefit-analysis-for-determination-of-the-optimal-cut-point-5403?confirm_rules=1"
   ]
  },
  {
   "cell_type": "code",
   "execution_count": null,
   "metadata": {
    "_uuid": "cc97c360044ec60ae06db4a69b289b28839a59d5"
   },
   "outputs": [],
   "source": [
    "thresholds_adj = [0.1,0.2,0.3,0.4,0.5,0.6,0.7,0.8,0.9]\n",
    "\n",
    "plt.figure(figsize = (15,15))\n",
    "\n",
    "j = 1\n",
    "for i in thresholds_adj:\n",
    "    y_score = voting_cfl.predict_proba(X)[:,1] > i\n",
    "    \n",
    "    plt.subplot(3,3,j)\n",
    "    j += 1\n",
    "    \n",
    "    cm = confusion_matrix(y, y_score)\n",
    "    \n",
    "    tp = cm[1,1]\n",
    "    fn = cm[1,0]\n",
    "    fp = cm[0,1]\n",
    "    tn = cm[0,0]\n",
    "\n",
    "    print('F1_score w/ threshold = %s :'%i, (2*(((tp/(tp+fp))*(tp/(tp+fn)))/\n",
    "                                                 ((tp/(tp+fp))+(tp/(tp+fn))))))\n",
    "    \n",
    "    class_names = [0,1]\n",
    "    plot_confusion_matrix(cm, \n",
    "                          classes=class_names, \n",
    "                          title='Threshold = %s'%i) \n",
    "    \n",
    "plt.savefig('9.confusion_matrix_thresold_select.png')"
   ]
  },
  {
   "cell_type": "markdown",
   "metadata": {
    "_uuid": "6143eef98803e4eef7278b3e651476c1659d20c6"
   },
   "source": [
    "The best compromise is the threshold = 0.5 (standard)"
   ]
  },
  {
   "cell_type": "code",
   "execution_count": null,
   "metadata": {},
   "outputs": [],
   "source": []
  },
  {
   "cell_type": "markdown",
   "metadata": {
    "_uuid": "18e8810cdc42bd4ad031b81a993e45f340ae1e97"
   },
   "source": [
    "# Feature Scaling"
   ]
  },
  {
   "cell_type": "code",
   "execution_count": null,
   "metadata": {
    "_uuid": "c769219c2326f7edb5fb6afcc966262a5fe462f1"
   },
   "outputs": [],
   "source": [
    "from sklearn.preprocessing import StandardScaler\n",
    "data['normalizedAmount'] = StandardScaler().fit_transform(data['Amount'].values.reshape(-1,1))\n",
    "data = data.drop(['Amount'],axis=1)"
   ]
  },
  {
   "cell_type": "code",
   "execution_count": null,
   "metadata": {
    "_uuid": "725316ecdcddacda711894e4069ff26b961d04a6"
   },
   "outputs": [],
   "source": [
    "data = data.drop(['Time'],axis=1)\n",
    "data.head()"
   ]
  },
  {
   "cell_type": "code",
   "execution_count": null,
   "metadata": {
    "_uuid": "3a993b9b21fa7c8a7826a829cb7a22cd81d113a6"
   },
   "outputs": [],
   "source": [
    "X = data.iloc[:, data.columns != 'Class']\n",
    "y = data.iloc[:, data.columns == 'Class']"
   ]
  },
  {
   "cell_type": "code",
   "execution_count": null,
   "metadata": {
    "_uuid": "bcf4014ae94c204f932a94fbb3e8d989959ee4ab"
   },
   "outputs": [],
   "source": [
    "X.info()"
   ]
  },
  {
   "cell_type": "code",
   "execution_count": null,
   "metadata": {
    "_uuid": "b2ff9ee4d3c78b2525747f92307907715df62563"
   },
   "outputs": [],
   "source": [
    "y.head()"
   ]
  },
  {
   "cell_type": "markdown",
   "metadata": {
    "_uuid": "106857847833179cec0cb5474d18ea20bbc988d0"
   },
   "source": [
    "# Model Training"
   ]
  },
  {
   "cell_type": "code",
   "execution_count": null,
   "metadata": {
    "_uuid": "852ead2a0fc724d0d1b1691c3152db1a8db3c7c2"
   },
   "outputs": [],
   "source": [
    "from sklearn.model_selection import train_test_split\n",
    "X_train, X_test, y_train, y_test = train_test_split(X,y, test_size = 0.25, random_state=101)"
   ]
  },
  {
   "cell_type": "code",
   "execution_count": null,
   "metadata": {
    "_uuid": "67671f1ca381f8b571c2f66ac212f11e12d6204e"
   },
   "outputs": [],
   "source": [
    "# Decison Tree\n",
    "from sklearn.tree import DecisionTreeClassifier\n",
    "from sklearn.metrics import confusion_matrix, accuracy_score, f1_score, precision_score, recall_score\n",
    "\n",
    "classifier = DecisionTreeClassifier(criterion = 'gini',  splitter='best', min_samples_leaf=1, min_samples_split=2)\n",
    "classifier.fit(X_train, y_train)\n",
    "\n",
    "          "
   ]
  },
  {
   "cell_type": "code",
   "execution_count": null,
   "metadata": {
    "_uuid": "67671f1ca381f8b571c2f66ac212f11e12d6204e"
   },
   "outputs": [],
   "source": [
    "# Predicting Test Set\n",
    "y_predicitons = classifier.predict(X_test)\n",
    "accuracy = accuracy_score(y_test, y_predicitons)\n",
    "precision = precision_score(y_test, y_predicitons)\n",
    "recall = recall_score(y_test, y_predicitons)\n",
    "f1 = f1_score(y_test, y_predicitons)\n",
    "\n",
    "\n",
    "results = pd.DataFrame([['Decision tree', accuracy, precision, recall, f1]],\n",
    "               columns = ['Model', 'Accuracy', 'Precision', 'Recall', 'F1 Score'])"
   ]
  },
  {
   "cell_type": "code",
   "execution_count": null,
   "metadata": {
    "_uuid": "5a4ae101b2a654c42eaaa09cdb6347cbc33adf28"
   },
   "outputs": [],
   "source": [
    "results"
   ]
  },
  {
   "cell_type": "code",
   "execution_count": null,
   "metadata": {
    "_uuid": "50d1dd7cebe8c4486f860b8ae629ea27713f3e59"
   },
   "outputs": [],
   "source": [
    "# Randomforest\n",
    "from sklearn.ensemble import RandomForestClassifier\n",
    "classifier = RandomForestClassifier(n_estimators = 100, criterion = 'entropy')\n",
    "classifier.fit(X_train, y_train)"
   ]
  },
  {
   "cell_type": "code",
   "execution_count": null,
   "metadata": {
    "_uuid": "50d1dd7cebe8c4486f860b8ae629ea27713f3e59"
   },
   "outputs": [],
   "source": [
    "# Predicting Test Set\n",
    "y_predicitons_rf = classifier.predict(X_test)\n",
    "accuracy_rf = accuracy_score(y_test, y_predicitons_rf)\n",
    "precision_rf = precision_score(y_test, y_predicitons_rf)\n",
    "recall_rf = recall_score(y_test, y_predicitons_rf)\n",
    "f1_rf = f1_score(y_test, y_predicitons_rf)\n",
    "\n",
    "\n",
    "model_results = pd.DataFrame([['Random Forest', accuracy_rf, precision_rf, recall_rf, f1_rf]],\n",
    "               columns = ['Model', 'Accuracy', 'Precision', 'Recall', 'F1 Score'])\n",
    "\n",
    "results = results.append(model_results, ignore_index = True)"
   ]
  },
  {
   "cell_type": "code",
   "execution_count": null,
   "metadata": {
    "_uuid": "bf724b13c6ea29ba26b7ed65c4b64471ce60cc62"
   },
   "outputs": [],
   "source": [
    "results"
   ]
  },
  {
   "cell_type": "markdown",
   "metadata": {
    "_uuid": "41ca53da362c702a92084c08451c789367dacbcc"
   },
   "source": [
    "# Artifial Neural Network Model"
   ]
  },
  {
   "cell_type": "code",
   "execution_count": null,
   "metadata": {
    "_uuid": "4381a5a475d9763c4bf02e8e410becff64879779"
   },
   "outputs": [],
   "source": [
    "import keras\n",
    "from keras.models import Sequential\n",
    "from keras.layers import Dense\n",
    "\n",
    "# Initialising the ANN\n",
    "classifier = Sequential()\n",
    "\n",
    "# Adding the input layer and the first hidden layer\n",
    "classifier.add(Dense(units =15 , kernel_initializer = 'uniform', activation = 'relu', input_dim = 29))\n",
    "\n",
    "# Adding the second hidden layer\n",
    "classifier.add(Dense(units = 15, kernel_initializer = 'uniform', activation = 'relu'))\n",
    "\n",
    "# Adding the output layer\n",
    "classifier.add(Dense(units = 1, kernel_initializer = 'uniform', activation = 'sigmoid'))\n",
    "\n",
    "# Compiling the ANN\n",
    "classifier.compile(optimizer = 'adam', loss = 'binary_crossentropy', metrics = ['accuracy'])\n",
    "\n",
    "# Fitting the ANN to the Training set\n",
    "classifier.fit(X_train, y_train, batch_size = 32, epochs = 33, verbose=2)"
   ]
  },
  {
   "cell_type": "code",
   "execution_count": null,
   "metadata": {
    "_uuid": "171b92d5ff8e540c1c2fd3761a104706f0609dcb"
   },
   "outputs": [],
   "source": [
    "# Predicting the Test set results\n",
    "y_pred = classifier.predict(X_test)\n",
    "y_pred = (y_pred > 0.5)\n"
   ]
  },
  {
   "cell_type": "code",
   "execution_count": null,
   "metadata": {
    "_uuid": "46b734b5f75c5573bb80160d79a26137f97995b0"
   },
   "outputs": [],
   "source": [
    "score = classifier.evaluate(X_test, y_test)\n",
    "score"
   ]
  },
  {
   "cell_type": "code",
   "execution_count": null,
   "metadata": {
    "_uuid": "0833da38c3318961100ef54fd60a82b43e832ea0"
   },
   "outputs": [],
   "source": [
    "\n",
    "# Making the Confusion Matrix\n",
    "from sklearn.metrics import confusion_matrix\n",
    "cm = confusion_matrix(y_test, y_pred)\n",
    "\n",
    "\n"
   ]
  },
  {
   "cell_type": "code",
   "execution_count": null,
   "metadata": {
    "_uuid": "270f6922b8f74b8d30a8522bd5fb2e51924ce1f7"
   },
   "outputs": [],
   "source": [
    "cm"
   ]
  },
  {
   "cell_type": "code",
   "execution_count": null,
   "metadata": {
    "_uuid": "d9c195908f966f78e3ac3a48eae43e7aca10556d"
   },
   "outputs": [],
   "source": [
    "#Let's see how our model performed\n",
    "from sklearn.metrics import classification_report\n",
    "print(classification_report(y_test, y_pred))"
   ]
  },
  {
   "cell_type": "code",
   "execution_count": null,
   "metadata": {
    "_uuid": "add1e1692e2ba88124b20e884d3c7f95e2771687"
   },
   "outputs": [],
   "source": [
    "## EXTRA: Confusion Matrix\n",
    "cm = confusion_matrix(y_test, y_pred) # rows = truth, cols = prediction\n",
    "df_cm = pd.DataFrame(cm, index = (0, 1), columns = (0, 1))\n",
    "plt.figure(figsize = (10,7))\n",
    "sns.set(font_scale=1.4)\n",
    "sns.heatmap(df_cm, annot=True, fmt='g')\n",
    "print(\"Test Data Accuracy: %0.4f\" % accuracy_score(y_test, y_pred))"
   ]
  },
  {
   "cell_type": "code",
   "execution_count": null,
   "metadata": {
    "_uuid": "96ff912b111bc1a57d9bc727ba613dffec62889b"
   },
   "outputs": [],
   "source": []
  },
  {
   "cell_type": "code",
   "execution_count": null,
   "metadata": {},
   "outputs": [],
   "source": []
  }
 ],
 "metadata": {
  "kernelspec": {
   "display_name": "Python 3",
   "language": "python",
   "name": "python3"
  },
  "language_info": {
   "codemirror_mode": {
    "name": "ipython",
    "version": 3
   },
   "file_extension": ".py",
   "mimetype": "text/x-python",
   "name": "python",
   "nbconvert_exporter": "python",
   "pygments_lexer": "ipython3",
   "version": "3.6.8"
  },
  "toc": {
   "base_numbering": 1,
   "nav_menu": {},
   "number_sections": true,
   "sideBar": true,
   "skip_h1_title": false,
   "title_cell": "Table of Contents",
   "title_sidebar": "Contents",
   "toc_cell": false,
   "toc_position": {},
   "toc_section_display": true,
   "toc_window_display": false
  }
 },
 "nbformat": 4,
 "nbformat_minor": 1
}
